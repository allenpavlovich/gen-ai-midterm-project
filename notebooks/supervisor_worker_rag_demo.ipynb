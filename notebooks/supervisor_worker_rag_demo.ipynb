{
 "cells": [
  {
   "cell_type": "markdown",
   "metadata": {},
   "source": [
    "# Supervisor-Worker RAG Chatbot Demonstration\n",
    "\n",
    "This notebook demonstrates the RAG (Retrieval-Augmented Generation) chatbot implementation using LangGraph with a Supervisor-Worker architecture. The chatbot is designed to answer questions about the University's MS in Applied Data Science program."
   ]
  },
  {
   "cell_type": "markdown",
   "metadata": {},
   "source": [
    "## Setup\n",
    "\n",
    "First, let's import the required libraries and set up our environment."
   ]
  },
  {
   "cell_type": "code",
   "execution_count": 1,
   "metadata": {},
   "outputs": [],
   "source": [
    "import os\n",
    "import sys\n",
    "import json\n",
    "from IPython.display import display, HTML\n",
    "\n",
    "# Add the src directory to the path\n",
    "sys.path.append(os.path.abspath('..'))\n",
    "\n",
    "# Import our RAG chatbot implementation\n",
    "from src.rag_chatbot import RAGChatbot\n",
    "\n",
    "# For visualization\n",
    "from IPython.display import Image, display\n",
    "import matplotlib.pyplot as plt"
   ]
  },
  {
   "cell_type": "markdown",
   "metadata": {},
   "source": [
    "## Set OpenAI API Key\n",
    "\n",
    "Make sure to set your OpenAI API key. You can either set it as an environment variable or directly in this notebook."
   ]
  },
  {
   "cell_type": "code",
   "execution_count": null,
   "metadata": {},
   "outputs": [
    {
     "name": "stdout",
     "output_type": "stream",
     "text": [
      "✓ OPENAI_API_KEY is set!\n"
     ]
    }
   ],
   "source": [
    "# Option 1: Set the API key directly (replace with your actual key)\n",
    "os.environ[\"OPENAI_API_KEY\"] = \"api_keys here\"\n",
    "\n",
    "# Option 2: Load from a .env file or check if already set\n",
    "#from dotenv import load_dotenv\n",
    "#load_dotenv()  # This will load environment variables from a .env file if present\n",
    "\n",
    "# Verify the API key is set\n",
    "if \"OPENAI_API_KEY\" not in os.environ or not os.environ[\"OPENAI_API_KEY\"]:\n",
    "    print(\"⚠️ Warning: OPENAI_API_KEY is not set. Please set it before proceeding.\")\n",
    "else:\n",
    "    print(\"✓ OPENAI_API_KEY is set!\")"
   ]
  },
  {
   "cell_type": "markdown",
   "metadata": {},
   "source": [
    "## Initialize the Chatbot\n",
    "\n",
    "Now let's initialize our RAG chatbot that uses the Supervisor-Worker architecture with LangGraph."
   ]
  },
  {
   "cell_type": "code",
   "execution_count": 3,
   "metadata": {},
   "outputs": [
    {
     "name": "stdout",
     "output_type": "stream",
     "text": [
      "RAG Chatbot initialized!\n"
     ]
    }
   ],
   "source": [
    "# Initialize the chatbot with GPT-4-Turbo\n",
    "# You can also use 'gpt-4' if you have access to it\n",
    "chatbot = RAGChatbot(model=\"gpt-4o\")\n",
    "\n",
    "print(\"RAG Chatbot initialized!\")"
   ]
  },
  {
   "cell_type": "markdown",
   "metadata": {},
   "source": [
    "## Visualize the LangGraph Workflow\n",
    "\n",
    "Here we'll visualize the workflow using Mermaid chart representation (if available)."
   ]
  },
  {
   "cell_type": "code",
   "execution_count": 4,
   "metadata": {},
   "outputs": [
    {
     "name": "stdout",
     "output_type": "stream",
     "text": [
      "Could not generate graph visualization: cannot import name 'get_graph_representation' from 'langgraph.graph' (c:\\Users\\alen.pavlovic\\Documents\\GitLab\\gen-ai-midterm-project\\venv\\Lib\\site-packages\\langgraph\\graph\\__init__.py)\n",
      "\n",
      "Fallback text representation:\n",
      "Supervisor → Retrieve → Generate → Supervisor\n",
      "Supervisor → Generate → Supervisor\n",
      "Supervisor → Summarize → Done\n",
      "Supervisor → Done\n"
     ]
    }
   ],
   "source": [
    "try:\n",
    "    # Attempt to draw the graph if LangGraph supports it\n",
    "    from langgraph.graph import get_graph_representation, get_mermaid\n",
    "    \n",
    "    # Get the graph from our implementation\n",
    "    graph = chatbot.graph.graph\n",
    "    \n",
    "    # Generate mermaid representation\n",
    "    mermaid_representation = get_mermaid(graph)\n",
    "    \n",
    "    # Display as mermaid diagram\n",
    "    display(HTML(f\"\"\"\n",
    "    <div class=\"mermaid\">\n",
    "    {mermaid_representation}\n",
    "    </div>\n",
    "    <script src=\"https://cdn.jsdelivr.net/npm/mermaid@10/dist/mermaid.min.js\"></script>\n",
    "    <script>mermaid.initialize({{startOnLoad:true}});</script>\n",
    "    \"\"\"))\n",
    "except Exception as e:\n",
    "    print(f\"Could not generate graph visualization: {e}\")\n",
    "    print(\"\\nFallback text representation:\")\n",
    "    print(\"Supervisor → Retrieve → Generate → Supervisor\")\n",
    "    print(\"Supervisor → Generate → Supervisor\")\n",
    "    print(\"Supervisor → Summarize → Done\")\n",
    "    print(\"Supervisor → Done\")"
   ]
  },
  {
   "cell_type": "markdown",
   "metadata": {},
   "source": [
    "## Test the RAG Chatbot\n",
    "\n",
    "Let's test our chatbot with some sample questions about the MS in Applied Data Science program."
   ]
  },
  {
   "cell_type": "code",
   "execution_count": 5,
   "metadata": {},
   "outputs": [],
   "source": [
    "def formatted_chat(query, stream=False):\n",
    "    \"\"\"Format the chat nicely for display\"\"\"\n",
    "    print(f\"🧑 User: {query}\")\n",
    "    print(\"\\n\")\n",
    "    \n",
    "    # Get the response\n",
    "    try:\n",
    "        if stream:\n",
    "            response, steps = chatbot.chat(query, stream=True)\n",
    "        else:\n",
    "            response = chatbot.chat(query)\n",
    "            \n",
    "        # Format the response appropriately\n",
    "        if isinstance(response, list) and len(response) > 0:\n",
    "            if isinstance(response[-1], dict):\n",
    "                print(f\"🤖 Assistant: {response[-1].get('content', 'No content')}\\n\")\n",
    "            else:\n",
    "                print(f\"🤖 Assistant: {response}\\n\")\n",
    "        else:\n",
    "            print(f\"🤖 Assistant: {response}\\n\")\n",
    "    except Exception as e:\n",
    "        print(f\"Error: {str(e)}\")\n",
    "        import traceback\n",
    "        traceback.print_exc()\n",
    "        return None\n",
    "    \n",
    "    print(\"-\" * 80)\n",
    "    return response"
   ]
  },
  {
   "cell_type": "code",
   "execution_count": 6,
   "metadata": {},
   "outputs": [
    {
     "name": "stdout",
     "output_type": "stream",
     "text": [
      "🧑 User: What is the MS in Applied Data Science program about?\n",
      "\n",
      "\n",
      "🤖 Assistant: I'm sorry, but I don't have the information about the MS in Applied Data Science program based on the documents available. If you need detailed information about the program, I recommend contacting the university's admissions office or visiting their official website for accurate and up-to-date details.\n",
      "\n",
      "--------------------------------------------------------------------------------\n"
     ]
    },
    {
     "data": {
      "text/plain": [
       "\"I'm sorry, but I don't have the information about the MS in Applied Data Science program based on the documents available. If you need detailed information about the program, I recommend contacting the university's admissions office or visiting their official website for accurate and up-to-date details.\""
      ]
     },
     "execution_count": 6,
     "metadata": {},
     "output_type": "execute_result"
    }
   ],
   "source": [
    "# Example 1: Basic program information\n",
    "query1 = \"What is the MS in Applied Data Science program about?\"\n",
    "formatted_chat(query1)"
   ]
  },
  {
   "cell_type": "code",
   "execution_count": 7,
   "metadata": {},
   "outputs": [
    {
     "name": "stdout",
     "output_type": "stream",
     "text": [
      "🧑 User: What are the core courses for the program?\n",
      "\n",
      "\n",
      "Retrieved existing collection 'uchicago_ms_applied_ds_header_chunks'\n",
      "Performing direct course search due to poor retrieval results\n",
      "Found 16 course-related documents through direct search\n",
      "🤖 Assistant: The core courses for the Master's in Applied Data Science program at the University of Chicago consist of six courses. These courses are designed to build both theoretical knowledge of data science and practical skills to apply this knowledge to solve real-world business problems. The identified core courses in the program are as follows:\n",
      "\n",
      "1. Time Series Analysis and Forecasting\n",
      "2. Statistical Models for Data Science\n",
      "3. Machine Learning I\n",
      "4. Machine Learning II\n",
      "5. Either Data Engineering Platforms for Analytics or Big Data and Cloud Computing\n",
      "6. Leadership and Consulting for Data Science\n",
      "\n",
      "These courses collectively prepare students for various challenges in the data science field by covering key topics from predictive analytics and statistical modeling to practical machine learning applications and data engineering.\n",
      "\n",
      "--------------------------------------------------------------------------------\n"
     ]
    },
    {
     "data": {
      "text/plain": [
       "\"The core courses for the Master's in Applied Data Science program at the University of Chicago consist of six courses. These courses are designed to build both theoretical knowledge of data science and practical skills to apply this knowledge to solve real-world business problems. The identified core courses in the program are as follows:\\n\\n1. Time Series Analysis and Forecasting\\n2. Statistical Models for Data Science\\n3. Machine Learning I\\n4. Machine Learning II\\n5. Either Data Engineering Platforms for Analytics or Big Data and Cloud Computing\\n6. Leadership and Consulting for Data Science\\n\\nThese courses collectively prepare students for various challenges in the data science field by covering key topics from predictive analytics and statistical modeling to practical machine learning applications and data engineering.\""
      ]
     },
     "execution_count": 7,
     "metadata": {},
     "output_type": "execute_result"
    }
   ],
   "source": [
    "# Example 2: Course requirements\n",
    "query2 = \"What are the core courses for the program?\"\n",
    "formatted_chat(query2)"
   ]
  },
  {
   "cell_type": "code",
   "execution_count": null,
   "metadata": {},
   "outputs": [],
   "source": [
    "# Example 3: Follow-up question (demonstrates conversation memory)\n",
    "query3 = \"How long does it take to complete these courses?\"\n",
    "formatted_chat(query3)"
   ]
  },
  {
   "cell_type": "code",
   "execution_count": null,
   "metadata": {},
   "outputs": [],
   "source": [
    "# Example 4: Question requiring summarization (potentially lengthy answer)\n",
    "query4 = \"What career opportunities are available after completing this program? Please provide detailed examples.\"\n",
    "formatted_chat(query4)"
   ]
  },
  {
   "cell_type": "code",
   "execution_count": 8,
   "metadata": {},
   "outputs": [
    {
     "name": "stdout",
     "output_type": "stream",
     "text": [
      "🧑 User: What is tuition cost for the MS in Applied Data Science?\n",
      "\n",
      "\n",
      "Performing direct tuition information search\n",
      "Found 15 tuition-related documents\n",
      "🤖 Assistant: The tuition cost for the MS in Applied Data Science program at the University of Chicago is $5,967 per course, with a total tuition of $71,604 for the entire program. Additionally, there is a non-refundable program enrollment deposit of $1,500, which is credited toward the first quarter’s tuition balance.\n",
      "\n",
      "Please note that tuition rates are subject to annual increases of 3-7%. For detailed information on all costs associated with the program, including potential scholarships and financial aid options, it is recommended to visit the university's official resources or directly consult with the admissions office.\n",
      "\n",
      "--------------------------------------------------------------------------------\n"
     ]
    },
    {
     "data": {
      "text/plain": [
       "\"The tuition cost for the MS in Applied Data Science program at the University of Chicago is $5,967 per course, with a total tuition of $71,604 for the entire program. Additionally, there is a non-refundable program enrollment deposit of $1,500, which is credited toward the first quarter’s tuition balance.\\n\\nPlease note that tuition rates are subject to annual increases of 3-7%. For detailed information on all costs associated with the program, including potential scholarships and financial aid options, it is recommended to visit the university's official resources or directly consult with the admissions office.\""
      ]
     },
     "execution_count": 8,
     "metadata": {},
     "output_type": "execute_result"
    }
   ],
   "source": [
    "# Example 4: Question requiring summarization (potentially lengthy answer)\n",
    "query4 = \"What is tuition cost for the MS in Applied Data Science?\"\n",
    "formatted_chat(query4)"
   ]
  },
  {
   "cell_type": "code",
   "execution_count": 9,
   "metadata": {},
   "outputs": [
    {
     "name": "stdout",
     "output_type": "stream",
     "text": [
      "🧑 User: What scholarships are available for the program?\n",
      "\n",
      "\n",
      "Performing direct tuition information search\n",
      "Found 17 tuition-related documents\n",
      "🤖 Assistant: The MS in Applied Data Science program at the University of Chicago offers several scholarship opportunities. The key scholarships available are:\n",
      "\n",
      "1. **Data Science Institute Scholarship**: Partial tuition scholarships are awarded to top applicants based on merit. No separate application is required for these scholarships, but early application submission is recommended to increase the chances of securing a scholarship.\n",
      "\n",
      "2. **MS in Applied Data Science Alumni Scholarship**: Similar to the Data Science Institute Scholarship, it provides partial tuition coverage to deserving applicants.\n",
      "\n",
      "Additionally, applicants are automatically considered for merit scholarships when they apply to the program. Submitting an application early is encouraged to improve the likelihood of receiving a scholarship.\n",
      "\n",
      "Beyond these program-specific scholarships, students are advised to explore external scholarships offered by civic and professional organizations, foundations, and state agencies. A useful resource for searching additional scholarships is the [financial aid information web page](https://finaid.org/) sponsored by the National Association of Student Aid Administration. \n",
      "\n",
      "For more detailed financial assistance options, including information about federal loans and employer tuition benefits, prospective students can visit the [Graduate Aid page](https://financialaid.uchicago.edu/graduate) and the [Bursar's website](http://bursar.uchicago.edu/).\n",
      "\n",
      "--------------------------------------------------------------------------------\n"
     ]
    },
    {
     "data": {
      "text/plain": [
       "\"The MS in Applied Data Science program at the University of Chicago offers several scholarship opportunities. The key scholarships available are:\\n\\n1. **Data Science Institute Scholarship**: Partial tuition scholarships are awarded to top applicants based on merit. No separate application is required for these scholarships, but early application submission is recommended to increase the chances of securing a scholarship.\\n\\n2. **MS in Applied Data Science Alumni Scholarship**: Similar to the Data Science Institute Scholarship, it provides partial tuition coverage to deserving applicants.\\n\\nAdditionally, applicants are automatically considered for merit scholarships when they apply to the program. Submitting an application early is encouraged to improve the likelihood of receiving a scholarship.\\n\\nBeyond these program-specific scholarships, students are advised to explore external scholarships offered by civic and professional organizations, foundations, and state agencies. A useful resource for searching additional scholarships is the [financial aid information web page](https://finaid.org/) sponsored by the National Association of Student Aid Administration. \\n\\nFor more detailed financial assistance options, including information about federal loans and employer tuition benefits, prospective students can visit the [Graduate Aid page](https://financialaid.uchicago.edu/graduate) and the [Bursar's website](http://bursar.uchicago.edu/).\""
      ]
     },
     "execution_count": 9,
     "metadata": {},
     "output_type": "execute_result"
    }
   ],
   "source": [
    "query4 = \"What scholarships are available for the program?\"\n",
    "formatted_chat(query4)"
   ]
  },
  {
   "cell_type": "code",
   "execution_count": 10,
   "metadata": {},
   "outputs": [
    {
     "name": "stdout",
     "output_type": "stream",
     "text": [
      "🧑 User: What are the minimum scores for the TOEFL and IELTS English Language Requirement?\n",
      "\n",
      "\n",
      "Performing direct course search due to poor retrieval results\n",
      "Found 8 course-related documents through direct search\n",
      "🤖 Assistant: The minimum English language proficiency scores required for the Master’s in Applied Data Science program at the University of Chicago are as follows:\n",
      "\n",
      "- **TOEFL**: A minimum overall score of 102 is required, with no subscore requirement.\n",
      "- **IELTS**: A minimum overall score of 7 is required, also with no subscore requirement.\n",
      "\n",
      "These scores are necessary for applicants who do not meet the English Language Proficiency criteria and must be submitted as proof of proficiency. Please note that the program requires the IELTS Academic Reading/Writing test, not the General Training one. Additionally, TOEFL or IELTS score reports must be valid and are considered expired if taken more than two years prior to the application submission. Photocopies or PDFs of these score reports will not be accepted in lieu of an official report. \n",
      "\n",
      "Further details and the waiver policy can be reviewed on the university's [English Language Requirements page](https://grad.uchicago.edu/admissions/apply/english-language-requirements/).\n",
      "\n",
      "--------------------------------------------------------------------------------\n"
     ]
    },
    {
     "data": {
      "text/plain": [
       "\"The minimum English language proficiency scores required for the Master’s in Applied Data Science program at the University of Chicago are as follows:\\n\\n- **TOEFL**: A minimum overall score of 102 is required, with no subscore requirement.\\n- **IELTS**: A minimum overall score of 7 is required, also with no subscore requirement.\\n\\nThese scores are necessary for applicants who do not meet the English Language Proficiency criteria and must be submitted as proof of proficiency. Please note that the program requires the IELTS Academic Reading/Writing test, not the General Training one. Additionally, TOEFL or IELTS score reports must be valid and are considered expired if taken more than two years prior to the application submission. Photocopies or PDFs of these score reports will not be accepted in lieu of an official report. \\n\\nFurther details and the waiver policy can be reviewed on the university's [English Language Requirements page](https://grad.uchicago.edu/admissions/apply/english-language-requirements/).\""
      ]
     },
     "execution_count": 10,
     "metadata": {},
     "output_type": "execute_result"
    }
   ],
   "source": [
    "query4 = \"What are the minimum scores for the TOEFL and IELTS English Language Requirement?\"\n",
    "formatted_chat(query4)"
   ]
  },
  {
   "cell_type": "code",
   "execution_count": 12,
   "metadata": {},
   "outputs": [
    {
     "name": "stdout",
     "output_type": "stream",
     "text": [
      "🧑 User: Is there an application fee waiver?\n",
      "\n",
      "\n",
      "Performing direct tuition information search\n",
      "Found 14 tuition-related documents\n",
      "🤖 Assistant: For specific inquiries regarding an application fee waiver for the Master's in Applied Data Science program, applicants are advised to refer to the Physical Sciences Division fee waiver policy through the provided link: [Physical Sciences Division fee waiver policy](https://physicalsciences.uchicago.edu/academics/admissions/application-requirements/#FeeWaiver). This source will contain the most accurate and detailed information on eligibility and application procedures for a fee waiver.\n",
      "\n",
      "--------------------------------------------------------------------------------\n"
     ]
    },
    {
     "data": {
      "text/plain": [
       "\"For specific inquiries regarding an application fee waiver for the Master's in Applied Data Science program, applicants are advised to refer to the Physical Sciences Division fee waiver policy through the provided link: [Physical Sciences Division fee waiver policy](https://physicalsciences.uchicago.edu/academics/admissions/application-requirements/#FeeWaiver). This source will contain the most accurate and detailed information on eligibility and application procedures for a fee waiver.\""
      ]
     },
     "execution_count": 12,
     "metadata": {},
     "output_type": "execute_result"
    }
   ],
   "source": [
    "query4 = \"Is there an application fee waiver?\"\n",
    "formatted_chat(query4)"
   ]
  },
  {
   "cell_type": "code",
   "execution_count": 13,
   "metadata": {},
   "outputs": [
    {
     "name": "stdout",
     "output_type": "stream",
     "text": [
      "🧑 User: What are the deadlines for the in-person program?\n",
      "\n",
      "\n",
      "🤖 Assistant: The retrieved documents do not contain specific information about the deadlines for the in-person program of the Applied Data Science program. Therefore, I cannot provide details based on the available sources. For accurate and reliable information, I recommend checking directly on the university's official website or contacting the admissions office for guidance.\n",
      "\n",
      "--------------------------------------------------------------------------------\n"
     ]
    },
    {
     "data": {
      "text/plain": [
       "\"The retrieved documents do not contain specific information about the deadlines for the in-person program of the Applied Data Science program. Therefore, I cannot provide details based on the available sources. For accurate and reliable information, I recommend checking directly on the university's official website or contacting the admissions office for guidance.\""
      ]
     },
     "execution_count": 13,
     "metadata": {},
     "output_type": "execute_result"
    }
   ],
   "source": [
    "query4 = \"What are the deadlines for the in-person program?\"\n",
    "formatted_chat(query4)"
   ]
  },
  {
   "cell_type": "code",
   "execution_count": 14,
   "metadata": {},
   "outputs": [
    {
     "name": "stdout",
     "output_type": "stream",
     "text": [
      "🧑 User: How long will it take for me to receive a decision on my application?\n",
      "\n",
      "\n",
      "🤖 Assistant: The retrieved documents do not contain specific information regarding the timeline for receiving a decision on your application for the Applied Data Science program. Therefore, I cannot provide an answer based on the available sources. For detailed and accurate information, I suggest checking the program's official website or contacting the admissions office directly.\n",
      "\n",
      "--------------------------------------------------------------------------------\n"
     ]
    },
    {
     "data": {
      "text/plain": [
       "\"The retrieved documents do not contain specific information regarding the timeline for receiving a decision on your application for the Applied Data Science program. Therefore, I cannot provide an answer based on the available sources. For detailed and accurate information, I suggest checking the program's official website or contacting the admissions office directly.\""
      ]
     },
     "execution_count": 14,
     "metadata": {},
     "output_type": "execute_result"
    }
   ],
   "source": [
    "query4 = \"How long will it take for me to receive a decision on my application?\"\n",
    "formatted_chat(query4)"
   ]
  },
  {
   "cell_type": "code",
   "execution_count": 15,
   "metadata": {},
   "outputs": [
    {
     "name": "stdout",
     "output_type": "stream",
     "text": [
      "🧑 User: Can I set up an advising appointment with the enrollment management team?\n",
      "\n",
      "\n",
      "🤖 Assistant: The retrieved documents do not contain specific information about setting up an advising appointment with the enrollment management team for the Applied Data Science program. Therefore, I cannot provide an answer based on the available sources. I recommend visiting the university's official website or reaching out directly to the program's admissions office or enrollment management team for guidance on scheduling an advising appointment.\n",
      "\n",
      "--------------------------------------------------------------------------------\n"
     ]
    },
    {
     "data": {
      "text/plain": [
       "\"The retrieved documents do not contain specific information about setting up an advising appointment with the enrollment management team for the Applied Data Science program. Therefore, I cannot provide an answer based on the available sources. I recommend visiting the university's official website or reaching out directly to the program's admissions office or enrollment management team for guidance on scheduling an advising appointment.\""
      ]
     },
     "execution_count": 15,
     "metadata": {},
     "output_type": "execute_result"
    }
   ],
   "source": [
    "query4 = \"Can I set up an advising appointment with the enrollment management team?\"\n",
    "formatted_chat(query4)"
   ]
  },
  {
   "cell_type": "code",
   "execution_count": 16,
   "metadata": {},
   "outputs": [
    {
     "name": "stdout",
     "output_type": "stream",
     "text": [
      "🧑 User: Where can I mail my official transcripts?\n",
      "\n",
      "\n",
      "🤖 Assistant: The retrieved documents do not contain information about where you can mail your official transcripts for the Applied Data Science program. I recommend visiting the program's official website or contacting the admissions office directly for accurate mailing instructions.\n",
      "\n",
      "--------------------------------------------------------------------------------\n"
     ]
    },
    {
     "data": {
      "text/plain": [
       "\"The retrieved documents do not contain information about where you can mail your official transcripts for the Applied Data Science program. I recommend visiting the program's official website or contacting the admissions office directly for accurate mailing instructions.\""
      ]
     },
     "execution_count": 16,
     "metadata": {},
     "output_type": "execute_result"
    }
   ],
   "source": [
    "query4 = \"Where can I mail my official transcripts?\"\n",
    "formatted_chat(query4)"
   ]
  },
  {
   "cell_type": "code",
   "execution_count": 17,
   "metadata": {},
   "outputs": [
    {
     "name": "stdout",
     "output_type": "stream",
     "text": [
      "🧑 User: Does the Master’s in Applied Data Science Online program provide visa sponsorship?\n",
      "\n",
      "\n",
      "🤖 Assistant: The Master’s in Applied Data Science Online program does not provide visa sponsorship. Only the full-time, in-person program is eligible for visa sponsorship. If you require visa sponsorship, you are encouraged to apply to the in-person program instead.\n",
      "\n",
      "--------------------------------------------------------------------------------\n"
     ]
    },
    {
     "data": {
      "text/plain": [
       "'The Master’s in Applied Data Science Online program does not provide visa sponsorship. Only the full-time, in-person program is eligible for visa sponsorship. If you require visa sponsorship, you are encouraged to apply to the in-person program instead.'"
      ]
     },
     "execution_count": 17,
     "metadata": {},
     "output_type": "execute_result"
    }
   ],
   "source": [
    "query4 = \"Does the Master’s in Applied Data Science Online program provide visa sponsorship?\"\n",
    "formatted_chat(query4)"
   ]
  },
  {
   "cell_type": "code",
   "execution_count": 18,
   "metadata": {},
   "outputs": [
    {
     "name": "stdout",
     "output_type": "stream",
     "text": [
      "🧑 User: How do I apply to the MBA/MS program?\n",
      "\n",
      "\n",
      "🤖 Assistant: The retrieved documents do not contain information on how to apply to the MBA/MS program. I recommend visiting the university's official website for the Applied Data Science program or contacting the admissions office directly to obtain accurate and detailed application instructions.\n",
      "\n",
      "--------------------------------------------------------------------------------\n"
     ]
    },
    {
     "data": {
      "text/plain": [
       "\"The retrieved documents do not contain information on how to apply to the MBA/MS program. I recommend visiting the university's official website for the Applied Data Science program or contacting the admissions office directly to obtain accurate and detailed application instructions.\""
      ]
     },
     "execution_count": 18,
     "metadata": {},
     "output_type": "execute_result"
    }
   ],
   "source": [
    "query4 = \"How do I apply to the MBA/MS program?\"\n",
    "formatted_chat(query4)"
   ]
  },
  {
   "cell_type": "code",
   "execution_count": 19,
   "metadata": {},
   "outputs": [
    {
     "name": "stdout",
     "output_type": "stream",
     "text": [
      "🧑 User: Is the MS in Applied Data Science program STEM/OPT eligible?\n",
      "\n",
      "\n",
      "🤖 Assistant: The retrieved documents do not contain information regarding whether the MS in Applied Data Science program is STEM/OPT eligible. I recommend checking the university's official website for the program or contacting the admissions office directly for accurate and detailed information about program eligibility for STEM/OPT.\n",
      "\n",
      "--------------------------------------------------------------------------------\n"
     ]
    },
    {
     "data": {
      "text/plain": [
       "\"The retrieved documents do not contain information regarding whether the MS in Applied Data Science program is STEM/OPT eligible. I recommend checking the university's official website for the program or contacting the admissions office directly for accurate and detailed information about program eligibility for STEM/OPT.\""
      ]
     },
     "execution_count": 19,
     "metadata": {},
     "output_type": "execute_result"
    }
   ],
   "source": [
    "query4 = \"Is the MS in Applied Data Science program STEM/OPT eligible?\"\n",
    "formatted_chat(query4)"
   ]
  },
  {
   "cell_type": "code",
   "execution_count": 20,
   "metadata": {},
   "outputs": [
    {
     "name": "stdout",
     "output_type": "stream",
     "text": [
      "🧑 User: How many courses must you complete to earn UChicago’s Master’s in Applied Data Science?\n",
      "\n",
      "\n",
      "🤖 Assistant: To earn the University of Chicago's Master's in Applied Data Science, you must successfully complete 12 courses. This includes 6 core courses, 4 elective courses, and 2 Capstone courses. Additionally, there is a tailored Career Seminar that is required but does not count as a credit course.\n",
      "\n",
      "--------------------------------------------------------------------------------\n"
     ]
    },
    {
     "data": {
      "text/plain": [
       "\"To earn the University of Chicago's Master's in Applied Data Science, you must successfully complete 12 courses. This includes 6 core courses, 4 elective courses, and 2 Capstone courses. Additionally, there is a tailored Career Seminar that is required but does not count as a credit course.\""
      ]
     },
     "execution_count": 20,
     "metadata": {},
     "output_type": "execute_result"
    }
   ],
   "source": [
    "query4 = \"How many courses must you complete to earn UChicago’s Master’s in Applied Data Science?\"\n",
    "formatted_chat(query4)"
   ]
  },
  {
   "cell_type": "markdown",
   "metadata": {},
   "source": [
    "## Debugging Mode with Step-by-Step Execution\n",
    "\n",
    "For debugging purposes, we can run the chatbot in streaming mode to see the step-by-step execution of the LangGraph workflow."
   ]
  },
  {
   "cell_type": "code",
   "execution_count": null,
   "metadata": {},
   "outputs": [],
   "source": [
    "# Stream mode with detailed steps\n",
    "debug_query = \"What are the admission requirements for the program?\"\n",
    "formatted_chat(debug_query, stream=True)"
   ]
  },
  {
   "cell_type": "markdown",
   "metadata": {},
   "source": [
    "## Reset Conversation\n",
    "\n",
    "We can reset the conversation history if needed."
   ]
  },
  {
   "cell_type": "code",
   "execution_count": null,
   "metadata": {},
   "outputs": [],
   "source": [
    "# Reset the conversation\n",
    "chatbot.reset()\n",
    "print(\"Conversation has been reset.\")"
   ]
  },
  {
   "cell_type": "markdown",
   "metadata": {},
   "source": [
    "## Multi-turn Conversation Test\n",
    "\n",
    "Let's test a multi-turn conversation to see how the chatbot maintains context."
   ]
  },
  {
   "cell_type": "code",
   "execution_count": null,
   "metadata": {},
   "outputs": [],
   "source": [
    "# Start a new conversation after reset\n",
    "formatted_chat(\"Tell me about the online program options.\")"
   ]
  },
  {
   "cell_type": "code",
   "execution_count": null,
   "metadata": {},
   "outputs": [],
   "source": [
    "# Follow-up question\n",
    "formatted_chat(\"What's the difference between online and on-campus programs?\")"
   ]
  },
  {
   "cell_type": "code",
   "execution_count": null,
   "metadata": {},
   "outputs": [],
   "source": [
    "# Another follow-up\n",
    "formatted_chat(\"Do online students get the same degree?\")"
   ]
  },
  {
   "cell_type": "markdown",
   "metadata": {},
   "source": [
    "## View Conversation History\n",
    "\n",
    "We can view the full conversation history."
   ]
  },
  {
   "cell_type": "code",
   "execution_count": null,
   "metadata": {},
   "outputs": [],
   "source": [
    "# Get the conversation history\n",
    "history = chatbot.get_conversation_history()\n",
    "\n",
    "# Display it nicely\n",
    "for i, message in enumerate(history):\n",
    "    role = message[\"role\"]\n",
    "    content = message[\"content\"]\n",
    "    \n",
    "    if role == \"user\":\n",
    "        print(f\"Message {i+1} - 🧑 User: {content[:50]}...\" if len(content) > 50 else f\"Message {i+1} - 🧑 User: {content}\")\n",
    "    else:\n",
    "        print(f\"Message {i+1} - 🤖 Assistant: {content[:50]}...\" if len(content) > 50 else f\"Message {i+1} - 🤖 Assistant: {content}\")"
   ]
  }
 ],
 "metadata": {
  "kernelspec": {
   "display_name": "venv",
   "language": "python",
   "name": "python3"
  },
  "language_info": {
   "codemirror_mode": {
    "name": "ipython",
    "version": 3
   },
   "file_extension": ".py",
   "mimetype": "text/x-python",
   "name": "python",
   "nbconvert_exporter": "python",
   "pygments_lexer": "ipython3",
   "version": "3.13.3"
  }
 },
 "nbformat": 4,
 "nbformat_minor": 2
}
