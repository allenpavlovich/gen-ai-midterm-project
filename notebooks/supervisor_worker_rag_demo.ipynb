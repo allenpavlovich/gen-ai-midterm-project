{
 "cells": [
  {
   "cell_type": "markdown",
   "metadata": {},
   "source": [
    "# Supervisor-Worker RAG Chatbot Demonstration\n",
    "\n",
    "This notebook demonstrates the RAG (Retrieval-Augmented Generation) chatbot implementation using LangGraph with a Supervisor-Worker architecture. The chatbot is designed to answer questions about the University's MS in Applied Data Science program."
   ]
  },
  {
   "cell_type": "markdown",
   "metadata": {},
   "source": [
    "## Setup\n",
    "\n",
    "First, let's import the required libraries and set up our environment."
   ]
  },
  {
   "cell_type": "code",
   "execution_count": 1,
   "metadata": {},
   "outputs": [],
   "source": [
    "import os\n",
    "import sys\n",
    "import json\n",
    "from IPython.display import display, HTML\n",
    "\n",
    "# Add the src directory to the path\n",
    "sys.path.append(os.path.abspath('..'))\n",
    "\n",
    "# Import our RAG chatbot implementation\n",
    "from src.rag_chatbot import RAGChatbot\n",
    "\n",
    "# For visualization\n",
    "from IPython.display import Image, display\n",
    "import matplotlib.pyplot as plt"
   ]
  },
  {
   "cell_type": "markdown",
   "metadata": {},
   "source": [
    "## Set OpenAI API Key\n",
    "\n",
    "Make sure to set your OpenAI API key. You can either set it as an environment variable or directly in this notebook."
   ]
  },
  {
   "cell_type": "code",
   "execution_count": null,
   "metadata": {},
   "outputs": [
    {
     "name": "stdout",
     "output_type": "stream",
     "text": [
      "✓ OPENAI_API_KEY is set!\n"
     ]
    }
   ],
   "source": [
    "# Option 1: Set the API key directly (replace with your actual key)\n",
    "os.environ[\"OPENAI_API_KEY\"] = \"api_keys_here\"\n",
    "\n",
    "# Option 2: Load from a .env file or check if already set\n",
    "#from dotenv import load_dotenv\n",
    "#load_dotenv()  # This will load environment variables from a .env file if present\n",
    "\n",
    "# Verify the API key is set\n",
    "if \"OPENAI_API_KEY\" not in os.environ or not os.environ[\"OPENAI_API_KEY\"]:\n",
    "    print(\"⚠️ Warning: OPENAI_API_KEY is not set. Please set it before proceeding.\")\n",
    "else:\n",
    "    print(\"✓ OPENAI_API_KEY is set!\")"
   ]
  },
  {
   "cell_type": "markdown",
   "metadata": {},
   "source": [
    "## Initialize the Chatbot\n",
    "\n",
    "Now let's initialize our RAG chatbot that uses the Supervisor-Worker architecture with LangGraph."
   ]
  },
  {
   "cell_type": "code",
   "execution_count": 4,
   "metadata": {},
   "outputs": [
    {
     "name": "stdout",
     "output_type": "stream",
     "text": [
      "RAG Chatbot initialized!\n"
     ]
    }
   ],
   "source": [
    "# Initialize the chatbot with GPT-4-Turbo\n",
    "# You can also use 'gpt-4' if you have access to it\n",
    "chatbot = RAGChatbot(model=\"gpt-4o\")\n",
    "\n",
    "print(\"RAG Chatbot initialized!\")"
   ]
  },
  {
   "cell_type": "markdown",
   "metadata": {},
   "source": [
    "## Visualize the LangGraph Workflow\n",
    "\n",
    "Here we'll visualize the workflow using Mermaid chart representation (if available)."
   ]
  },
  {
   "cell_type": "code",
   "execution_count": 5,
   "metadata": {},
   "outputs": [
    {
     "name": "stdout",
     "output_type": "stream",
     "text": [
      "Could not generate graph visualization: cannot import name 'get_graph_representation' from 'langgraph.graph' (c:\\Users\\alen.pavlovic\\Documents\\GitLab\\gen-ai-midterm-project\\venv\\Lib\\site-packages\\langgraph\\graph\\__init__.py)\n",
      "\n",
      "Fallback text representation:\n",
      "Supervisor → Retrieve → Generate → Supervisor\n",
      "Supervisor → Generate → Supervisor\n",
      "Supervisor → Summarize → Done\n",
      "Supervisor → Done\n"
     ]
    }
   ],
   "source": [
    "try:\n",
    "    # Attempt to draw the graph if LangGraph supports it\n",
    "    from langgraph.graph import get_graph_representation, get_mermaid\n",
    "    \n",
    "    # Get the graph from our implementation\n",
    "    graph = chatbot.graph.graph\n",
    "    \n",
    "    # Generate mermaid representation\n",
    "    mermaid_representation = get_mermaid(graph)\n",
    "    \n",
    "    # Display as mermaid diagram\n",
    "    display(HTML(f\"\"\"\n",
    "    <div class=\"mermaid\">\n",
    "    {mermaid_representation}\n",
    "    </div>\n",
    "    <script src=\"https://cdn.jsdelivr.net/npm/mermaid@10/dist/mermaid.min.js\"></script>\n",
    "    <script>mermaid.initialize({{startOnLoad:true}});</script>\n",
    "    \"\"\"))\n",
    "except Exception as e:\n",
    "    print(f\"Could not generate graph visualization: {e}\")\n",
    "    print(\"\\nFallback text representation:\")\n",
    "    print(\"Supervisor → Retrieve → Generate → Supervisor\")\n",
    "    print(\"Supervisor → Generate → Supervisor\")\n",
    "    print(\"Supervisor → Summarize → Done\")\n",
    "    print(\"Supervisor → Done\")"
   ]
  },
  {
   "cell_type": "markdown",
   "metadata": {},
   "source": [
    "## Test the RAG Chatbot\n",
    "\n",
    "Let's test our chatbot with some sample questions about the MS in Applied Data Science program."
   ]
  },
  {
   "cell_type": "code",
   "execution_count": 6,
   "metadata": {},
   "outputs": [],
   "source": [
    "def formatted_chat(query, stream=False):\n",
    "    \"\"\"Format the chat nicely for display\"\"\"\n",
    "    print(f\"🧑 User: {query}\")\n",
    "    print(\"\\n\")\n",
    "    \n",
    "    # Get the response\n",
    "    try:\n",
    "        if stream:\n",
    "            response, steps = chatbot.chat(query, stream=True)\n",
    "        else:\n",
    "            response = chatbot.chat(query)\n",
    "            \n",
    "        # Format the response appropriately\n",
    "        if isinstance(response, list) and len(response) > 0:\n",
    "            if isinstance(response[-1], dict):\n",
    "                print(f\"🤖 Assistant: {response[-1].get('content', 'No content')}\\n\")\n",
    "            else:\n",
    "                print(f\"🤖 Assistant: {response}\\n\")\n",
    "        else:\n",
    "            print(f\"🤖 Assistant: {response}\\n\")\n",
    "    except Exception as e:\n",
    "        print(f\"Error: {str(e)}\")\n",
    "        import traceback\n",
    "        traceback.print_exc()\n",
    "        return None\n",
    "    \n",
    "    print(\"-\" * 80)\n",
    "    return response"
   ]
  },
  {
   "cell_type": "code",
   "execution_count": 7,
   "metadata": {},
   "outputs": [
    {
     "name": "stdout",
     "output_type": "stream",
     "text": [
      "🧑 User: What is the MS in Applied Data Science program about?\n",
      "\n",
      "\n",
      "🤖 Assistant: I'm sorry, but I don't have the necessary information about the MS in Applied Data Science program to answer your question. If you have specific inquiries or need details about the program, I recommend reaching out directly to the university's admissions office or checking their official website for the most accurate and updated information.\n",
      "\n",
      "--------------------------------------------------------------------------------\n"
     ]
    },
    {
     "data": {
      "text/plain": [
       "\"I'm sorry, but I don't have the necessary information about the MS in Applied Data Science program to answer your question. If you have specific inquiries or need details about the program, I recommend reaching out directly to the university's admissions office or checking their official website for the most accurate and updated information.\""
      ]
     },
     "execution_count": 7,
     "metadata": {},
     "output_type": "execute_result"
    }
   ],
   "source": [
    "# Example 1: Basic program information\n",
    "query1 = \"What is the MS in Applied Data Science program about?\"\n",
    "formatted_chat(query1)"
   ]
  },
  {
   "cell_type": "code",
   "execution_count": 8,
   "metadata": {},
   "outputs": [
    {
     "name": "stdout",
     "output_type": "stream",
     "text": [
      "🧑 User: What are the core courses for the program?\n",
      "\n",
      "\n",
      "Retrieved existing collection 'uchicago_ms_applied_ds_header_chunks'\n",
      "Performing direct course search due to poor retrieval results\n",
      "Found 16 course-related documents through direct search\n",
      "🤖 Assistant: The Master's in Applied Data Science program at the University of Chicago requires students to complete six core courses as part of their degree. These courses are designed to build theoretical data science knowledge and provide practical experience in applying these theories to real-world business problems. \n",
      "\n",
      "The six core courses are:\n",
      "\n",
      "1. **Time Series Analysis and Forecasting**: Focuses on making rational predictions based on previous records, widely used in various business settings.\n",
      "\n",
      "2. **Statistical Models for Data Science**: Covers traditional linear models and new methods for working with a variety of data distributions and associations.\n",
      "\n",
      "3. **Machine Learning I**: Introduces students to machine learning with data mining techniques and algorithms, covering exploratory analyses, predictive modeling, and more.\n",
      "\n",
      "4. **Machine Learning II**: Extends knowledge to deep learning and generative AI, focusing on practical applications and evaluating results.\n",
      "\n",
      "5. **Data Engineering Platforms for Analytics or Big Data and Cloud Computing**: Options include focusing on data engineering—a first step in building an analytics infrastructure—or approaches to big data and large-scale machine learning.\n",
      "\n",
      "6. **Leadership and Consulting for Data Science**: Teaches techniques to effectively understand business domains, develop enterprise solutions, and manage projects.\n",
      "\n",
      "These core courses are integral for equipping students with the necessary skills to succeed in the field of data science.\n",
      "\n",
      "--------------------------------------------------------------------------------\n"
     ]
    },
    {
     "data": {
      "text/plain": [
       "\"The Master's in Applied Data Science program at the University of Chicago requires students to complete six core courses as part of their degree. These courses are designed to build theoretical data science knowledge and provide practical experience in applying these theories to real-world business problems. \\n\\nThe six core courses are:\\n\\n1. **Time Series Analysis and Forecasting**: Focuses on making rational predictions based on previous records, widely used in various business settings.\\n\\n2. **Statistical Models for Data Science**: Covers traditional linear models and new methods for working with a variety of data distributions and associations.\\n\\n3. **Machine Learning I**: Introduces students to machine learning with data mining techniques and algorithms, covering exploratory analyses, predictive modeling, and more.\\n\\n4. **Machine Learning II**: Extends knowledge to deep learning and generative AI, focusing on practical applications and evaluating results.\\n\\n5. **Data Engineering Platforms for Analytics or Big Data and Cloud Computing**: Options include focusing on data engineering—a first step in building an analytics infrastructure—or approaches to big data and large-scale machine learning.\\n\\n6. **Leadership and Consulting for Data Science**: Teaches techniques to effectively understand business domains, develop enterprise solutions, and manage projects.\\n\\nThese core courses are integral for equipping students with the necessary skills to succeed in the field of data science.\""
      ]
     },
     "execution_count": 8,
     "metadata": {},
     "output_type": "execute_result"
    }
   ],
   "source": [
    "# Example 2: Course requirements\n",
    "query2 = \"What are the core courses for the program?\"\n",
    "formatted_chat(query2)"
   ]
  },
  {
   "cell_type": "code",
   "execution_count": 9,
   "metadata": {},
   "outputs": [
    {
     "name": "stdout",
     "output_type": "stream",
     "text": [
      "🧑 User: How long does it take to complete these courses?\n",
      "\n",
      "\n",
      "🤖 Assistant: To complete the Master’s in Applied Data Science at the University of Chicago, students must finish 12 courses and a Career Seminar, broken down into 6 core courses, 4 electives, and a Capstone Project over 2 quarters. \n",
      "\n",
      "- **Part-time Students**: Take 2 courses per quarter, with classes usually in the evenings or on Saturdays.\n",
      "- **Full-time Students**: Take 3 courses per quarter, with some daytime classes.\n",
      "\n",
      "Optional noncredit courses, like Statistical Concepts, Python, and Advanced Linear Algebra, are offered to help students prepare. The program's duration depends on whether students enroll part-time or full-time.\n",
      "\n",
      "--------------------------------------------------------------------------------\n"
     ]
    },
    {
     "data": {
      "text/plain": [
       "\"To complete the Master’s in Applied Data Science at the University of Chicago, students must finish 12 courses and a Career Seminar, broken down into 6 core courses, 4 electives, and a Capstone Project over 2 quarters. \\n\\n- **Part-time Students**: Take 2 courses per quarter, with classes usually in the evenings or on Saturdays.\\n- **Full-time Students**: Take 3 courses per quarter, with some daytime classes.\\n\\nOptional noncredit courses, like Statistical Concepts, Python, and Advanced Linear Algebra, are offered to help students prepare. The program's duration depends on whether students enroll part-time or full-time.\""
      ]
     },
     "execution_count": 9,
     "metadata": {},
     "output_type": "execute_result"
    }
   ],
   "source": [
    "# Example 3: Follow-up question (demonstrates conversation memory)\n",
    "query3 = \"How long does it take to complete these courses?\"\n",
    "formatted_chat(query3)"
   ]
  },
  {
   "cell_type": "code",
   "execution_count": 10,
   "metadata": {},
   "outputs": [
    {
     "name": "stdout",
     "output_type": "stream",
     "text": [
      "🧑 User: What career opportunities are available after completing this program? Please provide detailed examples.\n",
      "\n",
      "\n",
      "🤖 Assistant: I apologize, but the documents provided do not contain specific information about career opportunities available after completing the Master's in Applied Data Science program at the University of Chicago. Consequently, I'm unable to provide detailed examples of career paths related to this program. For comprehensive and specific career information, I recommend reaching out directly to the university's career services or academic advising office.\n",
      "\n",
      "--------------------------------------------------------------------------------\n"
     ]
    },
    {
     "data": {
      "text/plain": [
       "\"I apologize, but the documents provided do not contain specific information about career opportunities available after completing the Master's in Applied Data Science program at the University of Chicago. Consequently, I'm unable to provide detailed examples of career paths related to this program. For comprehensive and specific career information, I recommend reaching out directly to the university's career services or academic advising office.\""
      ]
     },
     "execution_count": 10,
     "metadata": {},
     "output_type": "execute_result"
    }
   ],
   "source": [
    "# Example 4: Question requiring summarization (potentially lengthy answer)\n",
    "query4 = \"What career opportunities are available after completing this program? Please provide detailed examples.\"\n",
    "formatted_chat(query4)"
   ]
  },
  {
   "cell_type": "code",
   "execution_count": 12,
   "metadata": {},
   "outputs": [
    {
     "name": "stdout",
     "output_type": "stream",
     "text": [
      "🧑 User: What is tuition cost for the MS in Applied Data Science?\n",
      "\n",
      "\n",
      "Performing direct tuition information search\n",
      "Found 15 tuition-related documents\n",
      "🤖 Assistant: The tuition cost for the MS in Applied Data Science program is $5,967 per course, which totals $71,604 for the entire program. Please note that this total cost is subject to change as tuition is expected to increase by 3-7% per year. There is also a non-refundable program enrollment deposit of $1,500, which is credited toward the first quarter's tuition balance. Additional costs, which may include student fees, health insurance, and living expenses, are not included in the tuition total provided. For more detailed information on these additional expenses, it is advisable to visit the Graduate Financial Aid Office's Cost of Attendance page.\n",
      "\n",
      "--------------------------------------------------------------------------------\n"
     ]
    },
    {
     "data": {
      "text/plain": [
       "\"The tuition cost for the MS in Applied Data Science program is $5,967 per course, which totals $71,604 for the entire program. Please note that this total cost is subject to change as tuition is expected to increase by 3-7% per year. There is also a non-refundable program enrollment deposit of $1,500, which is credited toward the first quarter's tuition balance. Additional costs, which may include student fees, health insurance, and living expenses, are not included in the tuition total provided. For more detailed information on these additional expenses, it is advisable to visit the Graduate Financial Aid Office's Cost of Attendance page.\""
      ]
     },
     "execution_count": 12,
     "metadata": {},
     "output_type": "execute_result"
    }
   ],
   "source": [
    "query5 = \"What is tuition cost for the MS in Applied Data Science?\"\n",
    "formatted_chat(query5)"
   ]
  },
  {
   "cell_type": "code",
   "execution_count": 13,
   "metadata": {},
   "outputs": [
    {
     "name": "stdout",
     "output_type": "stream",
     "text": [
      "🧑 User: What scholarships are available for the program?\n",
      "\n",
      "\n",
      "Performing direct tuition information search\n",
      "Found 17 tuition-related documents\n",
      "🤖 Assistant: The MS in Applied Data Science program offers partial tuition scholarships to top applicants. These scholarships are merit-based and do not require a separate application; candidates are automatically considered upon applying to the program. However, it is recommended that applicants submit their applications prior to the early deadline to enhance their chances of receiving a scholarship.\n",
      "\n",
      "In addition to program-specific scholarships, students are encouraged to explore external scholarships offered by various civic and professional organizations, foundations, and state agencies. A useful resource for searching for these opportunities is the financial aid information web page sponsored by the National Association of Student Aid Administration.\n",
      "\n",
      "For detailed financial aid options, including information about loans, students can refer to the University's Graduate Aid page and the International Student Funding Options page for international students.\n",
      "\n",
      "--------------------------------------------------------------------------------\n"
     ]
    },
    {
     "data": {
      "text/plain": [
       "\"The MS in Applied Data Science program offers partial tuition scholarships to top applicants. These scholarships are merit-based and do not require a separate application; candidates are automatically considered upon applying to the program. However, it is recommended that applicants submit their applications prior to the early deadline to enhance their chances of receiving a scholarship.\\n\\nIn addition to program-specific scholarships, students are encouraged to explore external scholarships offered by various civic and professional organizations, foundations, and state agencies. A useful resource for searching for these opportunities is the financial aid information web page sponsored by the National Association of Student Aid Administration.\\n\\nFor detailed financial aid options, including information about loans, students can refer to the University's Graduate Aid page and the International Student Funding Options page for international students.\""
      ]
     },
     "execution_count": 13,
     "metadata": {},
     "output_type": "execute_result"
    }
   ],
   "source": [
    "query6 = \"What scholarships are available for the program?\"\n",
    "formatted_chat(query6)"
   ]
  },
  {
   "cell_type": "code",
   "execution_count": 14,
   "metadata": {},
   "outputs": [
    {
     "name": "stdout",
     "output_type": "stream",
     "text": [
      "🧑 User: What are the minimum scores for the TOEFL and IELTS English Language Requirement?\n",
      "\n",
      "\n",
      "Performing direct course search due to poor retrieval results\n",
      "Found 8 course-related documents through direct search\n",
      "🤖 Assistant: The minimum scores required for the English Language Requirement for the Master's in Applied Data Science program are as follows: a TOEFL internet-based test (iBT) score of 102 with no subscore requirement, and an IELTS Academic score of 7 with no subscore requirement. It is important to ensure that applicants take the Academic Reading/Writing test within IELTS, as the General Training Reading/Writing test is not accepted.\n",
      "\n",
      "Please also note that TOEFL or IELTS score reports are valid for two years. Scores will be considered expired if the test was taken more than two years before the application submission.\n",
      "\n",
      "--------------------------------------------------------------------------------\n"
     ]
    },
    {
     "data": {
      "text/plain": [
       "\"The minimum scores required for the English Language Requirement for the Master's in Applied Data Science program are as follows: a TOEFL internet-based test (iBT) score of 102 with no subscore requirement, and an IELTS Academic score of 7 with no subscore requirement. It is important to ensure that applicants take the Academic Reading/Writing test within IELTS, as the General Training Reading/Writing test is not accepted.\\n\\nPlease also note that TOEFL or IELTS score reports are valid for two years. Scores will be considered expired if the test was taken more than two years before the application submission.\""
      ]
     },
     "execution_count": 14,
     "metadata": {},
     "output_type": "execute_result"
    }
   ],
   "source": [
    "query7 = \"What are the minimum scores for the TOEFL and IELTS English Language Requirement?\"\n",
    "formatted_chat(query7)"
   ]
  },
  {
   "cell_type": "code",
   "execution_count": 16,
   "metadata": {},
   "outputs": [
    {
     "name": "stdout",
     "output_type": "stream",
     "text": [
      "🧑 User: Is there an application fee waiver?\n",
      "\n",
      "\n",
      "Performing direct tuition information search\n",
      "Found 14 tuition-related documents\n",
      "🤖 Assistant: There is a $90 non-refundable application fee for the program. For questions regarding an application fee waiver, it is suggested to refer to the [Physical Sciences Division fee waiver policy](https://physicalsciences.uchicago.edu/academics/admissions/application-requirements/#FeeWaiver).\n",
      "\n",
      "--------------------------------------------------------------------------------\n"
     ]
    },
    {
     "data": {
      "text/plain": [
       "'There is a $90 non-refundable application fee for the program. For questions regarding an application fee waiver, it is suggested to refer to the [Physical Sciences Division fee waiver policy](https://physicalsciences.uchicago.edu/academics/admissions/application-requirements/#FeeWaiver).'"
      ]
     },
     "execution_count": 16,
     "metadata": {},
     "output_type": "execute_result"
    }
   ],
   "source": [
    "query8 = \"Is there an application fee waiver?\"\n",
    "formatted_chat(query8)"
   ]
  },
  {
   "cell_type": "code",
   "execution_count": 17,
   "metadata": {},
   "outputs": [
    {
     "name": "stdout",
     "output_type": "stream",
     "text": [
      "🧑 User: What are the deadlines for the in-person program?\n",
      "\n",
      "\n",
      "🤖 Assistant: The retrieved documents do not contain information about the deadlines for the in-person program. Therefore, I am unable to provide specifics about application deadlines. I recommend checking the program's official website or contacting the admissions office directly for accurate and up-to-date information regarding application deadlines.\n",
      "\n",
      "--------------------------------------------------------------------------------\n"
     ]
    },
    {
     "data": {
      "text/plain": [
       "\"The retrieved documents do not contain information about the deadlines for the in-person program. Therefore, I am unable to provide specifics about application deadlines. I recommend checking the program's official website or contacting the admissions office directly for accurate and up-to-date information regarding application deadlines.\""
      ]
     },
     "execution_count": 17,
     "metadata": {},
     "output_type": "execute_result"
    }
   ],
   "source": [
    "query9 = \"What are the deadlines for the in-person program?\"\n",
    "formatted_chat(query9)"
   ]
  },
  {
   "cell_type": "code",
   "execution_count": 19,
   "metadata": {},
   "outputs": [
    {
     "name": "stdout",
     "output_type": "stream",
     "text": [
      "🧑 User: How long will it take for me to receive a decision on my application?\n",
      "\n",
      "\n",
      "🤖 Assistant: The retrieved documents do not contain information about how long it will take to receive a decision on your application for the Applied Data Science program. Therefore, I am unable to provide specifics about the decision timeline. I recommend checking the program's official website or reaching out to the admissions office directly for this information.\n",
      "\n",
      "--------------------------------------------------------------------------------\n"
     ]
    },
    {
     "data": {
      "text/plain": [
       "\"The retrieved documents do not contain information about how long it will take to receive a decision on your application for the Applied Data Science program. Therefore, I am unable to provide specifics about the decision timeline. I recommend checking the program's official website or reaching out to the admissions office directly for this information.\""
      ]
     },
     "execution_count": 19,
     "metadata": {},
     "output_type": "execute_result"
    }
   ],
   "source": [
    "query10 = \"How long will it take for me to receive a decision on my application?\"\n",
    "formatted_chat(query10)"
   ]
  },
  {
   "cell_type": "code",
   "execution_count": 20,
   "metadata": {},
   "outputs": [
    {
     "name": "stdout",
     "output_type": "stream",
     "text": [
      "🧑 User: Can I set up an advising appointment with the enrollment management team?\n",
      "\n",
      "\n",
      "🤖 Assistant: The retrieved documents do not contain information on how to set up an advising appointment with the enrollment management team for the Applied Data Science program. Therefore, I am unable to provide specifics on this process. I recommend visiting the program's official website or contacting the enrollment management team directly for guidance on setting up an appointment.\n",
      "\n",
      "--------------------------------------------------------------------------------\n"
     ]
    },
    {
     "data": {
      "text/plain": [
       "\"The retrieved documents do not contain information on how to set up an advising appointment with the enrollment management team for the Applied Data Science program. Therefore, I am unable to provide specifics on this process. I recommend visiting the program's official website or contacting the enrollment management team directly for guidance on setting up an appointment.\""
      ]
     },
     "execution_count": 20,
     "metadata": {},
     "output_type": "execute_result"
    }
   ],
   "source": [
    "query11 = \"Can I set up an advising appointment with the enrollment management team?\"\n",
    "formatted_chat(query11)"
   ]
  },
  {
   "cell_type": "code",
   "execution_count": 21,
   "metadata": {},
   "outputs": [
    {
     "name": "stdout",
     "output_type": "stream",
     "text": [
      "🧑 User: Where can I mail my official transcripts?\n",
      "\n",
      "\n",
      "🤖 Assistant: The retrieved documents do not contain information on where to mail your official transcripts for the Applied Data Science program. Therefore, I am unable to provide specifics about the mailing address for transcripts. I recommend checking the program's official website or contacting the admissions office directly for this information.\n",
      "\n",
      "--------------------------------------------------------------------------------\n"
     ]
    },
    {
     "data": {
      "text/plain": [
       "\"The retrieved documents do not contain information on where to mail your official transcripts for the Applied Data Science program. Therefore, I am unable to provide specifics about the mailing address for transcripts. I recommend checking the program's official website or contacting the admissions office directly for this information.\""
      ]
     },
     "execution_count": 21,
     "metadata": {},
     "output_type": "execute_result"
    }
   ],
   "source": [
    "query12 = \"Where can I mail my official transcripts?\"\n",
    "formatted_chat(query12)"
   ]
  },
  {
   "cell_type": "code",
   "execution_count": 22,
   "metadata": {},
   "outputs": [
    {
     "name": "stdout",
     "output_type": "stream",
     "text": [
      "🧑 User: Does the Master’s in Applied Data Science Online program provide visa sponsorship?\n",
      "\n",
      "\n",
      "🤖 Assistant: The Master's in Applied Data Science Online program does not provide visa sponsorship. Visa sponsorship is only available for students in the full-time, in-person program. Therefore, if you require visa sponsorship, you should consider applying to the in-person program instead.\n",
      "\n",
      "--------------------------------------------------------------------------------\n"
     ]
    },
    {
     "data": {
      "text/plain": [
       "\"The Master's in Applied Data Science Online program does not provide visa sponsorship. Visa sponsorship is only available for students in the full-time, in-person program. Therefore, if you require visa sponsorship, you should consider applying to the in-person program instead.\""
      ]
     },
     "execution_count": 22,
     "metadata": {},
     "output_type": "execute_result"
    }
   ],
   "source": [
    "query13 = \"Does the Master’s in Applied Data Science Online program provide visa sponsorship?\"\n",
    "formatted_chat(query13)"
   ]
  },
  {
   "cell_type": "code",
   "execution_count": 23,
   "metadata": {},
   "outputs": [
    {
     "name": "stdout",
     "output_type": "stream",
     "text": [
      "🧑 User: How do I apply to the MBA/MS program?\n",
      "\n",
      "\n",
      "🤖 Assistant: The retrieved documents do not provide information on how to apply to the MBA/MS program. I recommend visiting the official website of the university's business school or contacting their admissions office directly for detailed application instructions. They will be able to provide the most accurate and up-to-date information regarding application procedures and requirements for the MBA/MS program.\n",
      "\n",
      "--------------------------------------------------------------------------------\n"
     ]
    },
    {
     "data": {
      "text/plain": [
       "\"The retrieved documents do not provide information on how to apply to the MBA/MS program. I recommend visiting the official website of the university's business school or contacting their admissions office directly for detailed application instructions. They will be able to provide the most accurate and up-to-date information regarding application procedures and requirements for the MBA/MS program.\""
      ]
     },
     "execution_count": 23,
     "metadata": {},
     "output_type": "execute_result"
    }
   ],
   "source": [
    "query14 = \"How do I apply to the MBA/MS program?\"\n",
    "formatted_chat(query14)"
   ]
  },
  {
   "cell_type": "code",
   "execution_count": 28,
   "metadata": {},
   "outputs": [
    {
     "name": "stdout",
     "output_type": "stream",
     "text": [
      "🧑 User: Is the MS in Applied Data Science program STEM/OPT eligible?\n",
      "\n",
      "\n",
      "🤖 Assistant: The retrieved documents do not contain specific information about whether the MS in Applied Data Science program is STEM/OPT eligible. To obtain accurate details on OPT eligibility, I recommend reaching out directly to UChicago’s admissions office or checking their official program website for the most up-to-date information.\n",
      "\n",
      "--------------------------------------------------------------------------------\n"
     ]
    },
    {
     "data": {
      "text/plain": [
       "'The retrieved documents do not contain specific information about whether the MS in Applied Data Science program is STEM/OPT eligible. To obtain accurate details on OPT eligibility, I recommend reaching out directly to UChicago’s admissions office or checking their official program website for the most up-to-date information.'"
      ]
     },
     "execution_count": 28,
     "metadata": {},
     "output_type": "execute_result"
    }
   ],
   "source": [
    "query15 = \"Is the MS in Applied Data Science program STEM/OPT eligible?\"\n",
    "formatted_chat(query15)"
   ]
  },
  {
   "cell_type": "code",
   "execution_count": 27,
   "metadata": {},
   "outputs": [
    {
     "name": "stdout",
     "output_type": "stream",
     "text": [
      "🧑 User: How many courses must you complete to earn UChicago’s Master’s in Applied Data Science?\n",
      "\n",
      "\n",
      "🤖 Assistant: \n",
      "\n",
      "--------------------------------------------------------------------------------\n"
     ]
    },
    {
     "data": {
      "text/plain": [
       "''"
      ]
     },
     "execution_count": 27,
     "metadata": {},
     "output_type": "execute_result"
    }
   ],
   "source": [
    "query16 = \"How many courses must you complete to earn UChicago’s Master’s in Applied Data Science?\"\n",
    "formatted_chat(query16)"
   ]
  },
  {
   "cell_type": "markdown",
   "metadata": {},
   "source": [
    "## Debugging Mode with Step-by-Step Execution\n",
    "\n",
    "For debugging purposes, we can run the chatbot in streaming mode to see the step-by-step execution of the LangGraph workflow."
   ]
  },
  {
   "cell_type": "code",
   "execution_count": null,
   "metadata": {},
   "outputs": [],
   "source": [
    "# Stream mode with detailed steps\n",
    "debug_query = \"What are the admission requirements for the program?\"\n",
    "formatted_chat(debug_query, stream=True)"
   ]
  },
  {
   "cell_type": "markdown",
   "metadata": {},
   "source": [
    "## Reset Conversation\n",
    "\n",
    "We can reset the conversation history if needed."
   ]
  },
  {
   "cell_type": "code",
   "execution_count": null,
   "metadata": {},
   "outputs": [],
   "source": [
    "# Reset the conversation\n",
    "chatbot.reset()\n",
    "print(\"Conversation has been reset.\")"
   ]
  },
  {
   "cell_type": "markdown",
   "metadata": {},
   "source": [
    "## Multi-turn Conversation Test\n",
    "\n",
    "Let's test a multi-turn conversation to see how the chatbot maintains context."
   ]
  },
  {
   "cell_type": "code",
   "execution_count": null,
   "metadata": {},
   "outputs": [],
   "source": [
    "# Start a new conversation after reset\n",
    "formatted_chat(\"Tell me about the online program options.\")"
   ]
  },
  {
   "cell_type": "code",
   "execution_count": null,
   "metadata": {},
   "outputs": [],
   "source": [
    "# Follow-up question\n",
    "formatted_chat(\"What's the difference between online and on-campus programs?\")"
   ]
  },
  {
   "cell_type": "code",
   "execution_count": null,
   "metadata": {},
   "outputs": [],
   "source": [
    "# Another follow-up\n",
    "formatted_chat(\"Do online students get the same degree?\")"
   ]
  },
  {
   "cell_type": "markdown",
   "metadata": {},
   "source": [
    "## View Conversation History\n",
    "\n",
    "We can view the full conversation history."
   ]
  },
  {
   "cell_type": "code",
   "execution_count": null,
   "metadata": {},
   "outputs": [],
   "source": [
    "# Get the conversation history\n",
    "history = chatbot.get_conversation_history()\n",
    "\n",
    "# Display it nicely\n",
    "for i, message in enumerate(history):\n",
    "    role = message[\"role\"]\n",
    "    content = message[\"content\"]\n",
    "    \n",
    "    if role == \"user\":\n",
    "        print(f\"Message {i+1} - 🧑 User: {content[:50]}...\" if len(content) > 50 else f\"Message {i+1} - 🧑 User: {content}\")\n",
    "    else:\n",
    "        print(f\"Message {i+1} - 🤖 Assistant: {content[:50]}...\" if len(content) > 50 else f\"Message {i+1} - 🤖 Assistant: {content}\")"
   ]
  }
 ],
 "metadata": {
  "kernelspec": {
   "display_name": "venv",
   "language": "python",
   "name": "python3"
  },
  "language_info": {
   "codemirror_mode": {
    "name": "ipython",
    "version": 3
   },
   "file_extension": ".py",
   "mimetype": "text/x-python",
   "name": "python",
   "nbconvert_exporter": "python",
   "pygments_lexer": "ipython3",
   "version": "3.13.3"
  }
 },
 "nbformat": 4,
 "nbformat_minor": 2
}
