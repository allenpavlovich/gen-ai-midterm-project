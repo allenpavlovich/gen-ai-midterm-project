{
 "cells": [
  {
   "cell_type": "markdown",
   "metadata": {},
   "source": [
    "# Generate Embeddings for Markdown Chunks (v3)\n",
    "\n",
    "This notebook generates embeddings for markdown chunks that were created using the header-based chunking approach. It loads chunks from the `data/chunks` directory, generates embeddings using Sentence Transformers, and saves the results in various formats.\n",
    "\n",
    "This is an adaptation of the `generate_embeddings_v2.ipynb` notebook, modified to work with the new chunking format."
   ]
  },
  {
   "cell_type": "markdown",
   "metadata": {},
   "source": [
    "## Imports"
   ]
  },
  {
   "cell_type": "code",
   "execution_count": 15,
   "metadata": {},
   "outputs": [],
   "source": [
    "import os\n",
    "import json\n",
    "import time\n",
    "import glob\n",
    "import numpy as np\n",
    "import pandas as pd\n",
    "import matplotlib.pyplot as plt\n",
    "import pickle\n",
    "import logging\n",
    "from tqdm.notebook import tqdm\n",
    "from datetime import datetime\n",
    "from sentence_transformers import SentenceTransformer\n",
    "from sklearn.decomposition import PCA\n",
    "from sklearn.manifold import TSNE"
   ]
  },
  {
   "cell_type": "markdown",
   "metadata": {},
   "source": [
    "## Setup logging"
   ]
  },
  {
   "cell_type": "code",
   "execution_count": 16,
   "metadata": {},
   "outputs": [],
   "source": [
    "# Set up logging\n",
    "LOG_DIR = \"../logs\"\n",
    "os.makedirs(LOG_DIR, exist_ok=True)\n",
    "\n",
    "LOG_FILE = os.path.join(LOG_DIR, f\"generate_embeddings_v3_{datetime.now().strftime('%Y%m%d_%H%M%S')}.log\")\n",
    "\n",
    "# Configure logging\n",
    "logging.basicConfig(\n",
    "    level=logging.INFO,\n",
    "    format=\"%(asctime)s - %(name)s - %(levelname)s - %(message)s\",\n",
    "    handlers=[\n",
    "        logging.FileHandler(LOG_FILE),\n",
    "        logging.StreamHandler()\n",
    "    ]\n",
    ")\n",
    "\n",
    "logger = logging.getLogger(\"generate_embeddings_v3\")"
   ]
  },
  {
   "cell_type": "markdown",
   "metadata": {},
   "source": [
    "## Configuration"
   ]
  },
  {
   "cell_type": "code",
   "execution_count": 17,
   "metadata": {},
   "outputs": [
    {
     "name": "stderr",
     "output_type": "stream",
     "text": [
      "2025-05-12 23:14:25,106 - generate_embeddings_v3 - INFO - Using model: all-MiniLM-L6-v2\n",
      "2025-05-12 23:14:25,107 - generate_embeddings_v3 - INFO - Input directory: ../data/chunks\n",
      "2025-05-12 23:14:25,107 - generate_embeddings_v3 - INFO - Output directory: ../data/embeddings\\header_chunks_all_MiniLM_L6_v2_20250512_231425\n"
     ]
    }
   ],
   "source": [
    "# Define constants\n",
    "CHUNKS_DIR = \"../data/chunks\"\n",
    "OUTPUT_DIR = \"../data/embeddings\"\n",
    "MODEL_NAME = \"all-MiniLM-L6-v2\"  # Using the better quality model as requested\n",
    "ENCODING_BATCH_SIZE = 32  # Batch size for encoding\n",
    "USE_ALL_CHUNKS = True  # Set to True to use all_chunks_by_header.json, False to process individual files\n",
    "\n",
    "# Create output directory if it doesn't exist\n",
    "timestamp = datetime.now().strftime(\"%Y%m%d_%H%M%S\")\n",
    "output_dir = os.path.join(OUTPUT_DIR, f\"header_chunks_{MODEL_NAME.replace('-', '_')}_{timestamp}\")\n",
    "os.makedirs(output_dir, exist_ok=True)\n",
    "\n",
    "logger.info(f\"Using model: {MODEL_NAME}\")\n",
    "logger.info(f\"Input directory: {CHUNKS_DIR}\")\n",
    "logger.info(f\"Output directory: {output_dir}\")"
   ]
  },
  {
   "cell_type": "markdown",
   "metadata": {},
   "source": [
    "## Load Chunks\n",
    "\n",
    "Load the chunks from either the combined file or individual files."
   ]
  },
  {
   "cell_type": "code",
   "execution_count": 18,
   "metadata": {},
   "outputs": [],
   "source": [
    "def load_chunks(chunks_dir, use_all_chunks=True):\n",
    "    \"\"\"\n",
    "    Load chunks from either the combined file or individual files.\n",
    "    \n",
    "    Args:\n",
    "        chunks_dir (str): Directory containing the chunk files\n",
    "        use_all_chunks (bool): If True, load from all_chunks_by_header.json\n",
    "                             If False, load from individual chunk files\n",
    "    \n",
    "    Returns:\n",
    "        list: List of chunk dictionaries\n",
    "    \"\"\"\n",
    "    all_chunks = []\n",
    "    \n",
    "    if use_all_chunks:\n",
    "        # Load from the combined file\n",
    "        all_chunks_file = os.path.join(chunks_dir, \"all_chunks_by_header.json\")\n",
    "        if os.path.exists(all_chunks_file):\n",
    "            logger.info(f\"Loading chunks from {all_chunks_file}\")\n",
    "            with open(all_chunks_file, 'r', encoding='utf-8') as f:\n",
    "                all_chunks = json.load(f)\n",
    "            logger.info(f\"Loaded {len(all_chunks)} chunks from combined file\")\n",
    "        else:\n",
    "            logger.error(f\"Combined chunks file not found: {all_chunks_file}\")\n",
    "    else:\n",
    "        # Load from individual files\n",
    "        chunk_files = glob.glob(os.path.join(chunks_dir, \"*_chunks.json\"))\n",
    "        logger.info(f\"Found {len(chunk_files)} individual chunk files\")\n",
    "        \n",
    "        for file_path in tqdm(chunk_files, desc=\"Loading chunk files\"):\n",
    "            try:\n",
    "                with open(file_path, 'r', encoding='utf-8') as f:\n",
    "                    chunks = json.load(f)\n",
    "                    all_chunks.extend(chunks)\n",
    "            except Exception as e:\n",
    "                logger.error(f\"Error loading {file_path}: {str(e)}\")\n",
    "        \n",
    "        logger.info(f\"Loaded {len(all_chunks)} chunks from individual files\")\n",
    "    \n",
    "    # Add a unique ID to each chunk if not already present\n",
    "    for i, chunk in enumerate(all_chunks):\n",
    "        if \"id\" not in chunk and \"chunk_id\" not in chunk:\n",
    "            chunk[\"id\"] = f\"chunk_{i}\"\n",
    "    \n",
    "    return all_chunks"
   ]
  },
  {
   "cell_type": "code",
   "execution_count": 19,
   "metadata": {},
   "outputs": [
    {
     "name": "stderr",
     "output_type": "stream",
     "text": [
      "2025-05-12 23:14:25,241 - generate_embeddings_v3 - INFO - Loading chunks from ../data/chunks\\all_chunks_by_header.json\n",
      "2025-05-12 23:14:25,247 - generate_embeddings_v3 - INFO - Loaded 203 chunks from combined file\n"
     ]
    },
    {
     "name": "stdout",
     "output_type": "stream",
     "text": [
      "Total chunks loaded: 203\n",
      "\n",
      "Sample chunk:\n",
      "page_content: ## Your Career Success\n",
      "\n",
      "Take the next step to advance your career with UChicago’s MS in Applied Data...\n",
      "metadata: {'title': 'In-Person Program – DSI', 'original_url': 'https://datascience.uchicago.edu/education/masters-programs/in-person-program', 'category': 'education', 'date': '2025-05-04', 'source_file': 'C:\\\\Users\\\\alen.pavlovic\\\\Documents\\\\GitLab\\\\gen-ai-midterm-project\\\\data\\\\markdown_clean_final\\\\education_masters-programs_in-person-program.md', 'filename': 'education_masters-programs_in-person-program.md', 'section_level': 'main', 'section': 'Your Career Success', 'subsection': None, 'header_level': 2, 'header_text': 'Your Career Success', 'chunk_id': 'education_masters-programs_in-person-program_0', 'document_title': 'In-Person Program – DSI'}\n",
      "id: chunk_0\n"
     ]
    }
   ],
   "source": [
    "# Load the chunks\n",
    "chunks_data = load_chunks(CHUNKS_DIR, USE_ALL_CHUNKS)\n",
    "\n",
    "# Display some statistics\n",
    "print(f\"Total chunks loaded: {len(chunks_data)}\")\n",
    "\n",
    "# Display sample chunk\n",
    "if chunks_data:\n",
    "    print(\"\\nSample chunk:\")\n",
    "    sample_chunk = chunks_data[0]\n",
    "    for key, value in sample_chunk.items():\n",
    "        if isinstance(value, str) and len(value) > 100:\n",
    "            print(f\"{key}: {value[:100]}...\")\n",
    "        else:\n",
    "            print(f\"{key}: {value}\")"
   ]
  },
  {
   "cell_type": "markdown",
   "metadata": {},
   "source": [
    "## Initialize Sentence Transformer Model"
   ]
  },
  {
   "cell_type": "code",
   "execution_count": 20,
   "metadata": {},
   "outputs": [],
   "source": [
    "def init_sentence_transformer_model(model_name):\n",
    "    \"\"\"\n",
    "    Initialize the Sentence Transformer model.\n",
    "    \n",
    "    Args:\n",
    "        model_name (str): Name of the pre-trained model to use\n",
    "    \n",
    "    Returns:\n",
    "        SentenceTransformer: Initialized model\n",
    "    \"\"\"\n",
    "    try:\n",
    "        logger.info(f\"Initializing Sentence Transformer model: {model_name}\")\n",
    "        model = SentenceTransformer(model_name)\n",
    "        logger.info(f\"Model initialized successfully. Embedding dimension: {model.get_sentence_embedding_dimension()}\")\n",
    "        return model\n",
    "    except Exception as e:\n",
    "        logger.error(f\"Error initializing model: {str(e)}\")\n",
    "        return None"
   ]
  },
  {
   "cell_type": "code",
   "execution_count": 21,
   "metadata": {},
   "outputs": [
    {
     "name": "stderr",
     "output_type": "stream",
     "text": [
      "2025-05-12 23:14:25,299 - generate_embeddings_v3 - INFO - Initializing Sentence Transformer model: all-MiniLM-L6-v2\n",
      "2025-05-12 23:14:25,302 - sentence_transformers.SentenceTransformer - INFO - Use pytorch device_name: cpu\n",
      "2025-05-12 23:14:25,302 - sentence_transformers.SentenceTransformer - INFO - Load pretrained SentenceTransformer: all-MiniLM-L6-v2\n",
      "2025-05-12 23:14:28,410 - generate_embeddings_v3 - INFO - Model initialized successfully. Embedding dimension: 384\n"
     ]
    }
   ],
   "source": [
    "# Initialize the model\n",
    "model = init_sentence_transformer_model(MODEL_NAME)"
   ]
  },
  {
   "cell_type": "markdown",
   "metadata": {},
   "source": [
    "## Generate Embeddings"
   ]
  },
  {
   "cell_type": "code",
   "execution_count": 22,
   "metadata": {},
   "outputs": [],
   "source": [
    "def generate_embeddings_for_chunks(chunks_data, model, batch_size=ENCODING_BATCH_SIZE):\n",
    "    \"\"\"\n",
    "    Generate embeddings for the provided chunks using the specified model.\n",
    "    \n",
    "    Args:\n",
    "        chunks_data (list): List of chunk dictionaries\n",
    "        model (SentenceTransformer): Initialized model\n",
    "        batch_size (int): Batch size for encoding\n",
    "    \n",
    "    Returns:\n",
    "        tuple: (numpy.ndarray of embeddings, list of chunks with embeddings added)\n",
    "    \"\"\"\n",
    "    if not chunks_data or model is None:\n",
    "        logger.error(\"No chunks data or model not initialized\")\n",
    "        return np.array([]), []\n",
    "    \n",
    "    # Extract text from chunks for embedding\n",
    "    texts = []\n",
    "    valid_indices = []\n",
    "    \n",
    "    for i, chunk in enumerate(chunks_data):\n",
    "        # FIXED: Look for 'page_content' as in the example JSON\n",
    "        text = chunk.get(\"page_content\", chunk.get(\"content\", chunk.get(\"text\", \"\")))\n",
    "        \n",
    "        if text and len(text.strip()) > 0:\n",
    "            texts.append(text)\n",
    "            valid_indices.append(i)\n",
    "        else:\n",
    "            logger.warning(f\"Skipping empty text for chunk {i}\")\n",
    "    \n",
    "    logger.info(f\"Generating embeddings for {len(texts)} valid chunks\")\n",
    "    \n",
    "    if len(texts) == 0:\n",
    "        logger.error(\"No valid text found in any chunks. Check the structure of your chunks JSON.\")\n",
    "        return np.array([]), []\n",
    "    \n",
    "    # Generate embeddings in batches\n",
    "    start_time = time.time()\n",
    "    embeddings_array = model.encode(texts, batch_size=batch_size, show_progress_bar=True)\n",
    "    end_time = time.time()\n",
    "    \n",
    "    logger.info(f\"Embeddings generated in {end_time - start_time:.2f} seconds\")\n",
    "    logger.info(f\"Embedding shape: {embeddings_array.shape}\")\n",
    "    \n",
    "    # Add embeddings to the chunks\n",
    "    chunks_with_embeddings = []\n",
    "    for i, idx in enumerate(valid_indices):\n",
    "        chunk = chunks_data[idx].copy()\n",
    "        chunk[\"embedding\"] = embeddings_array[i].tolist()\n",
    "        chunks_with_embeddings.append(chunk)\n",
    "    \n",
    "    return embeddings_array, chunks_with_embeddings"
   ]
  },
  {
   "cell_type": "code",
   "execution_count": 23,
   "metadata": {},
   "outputs": [
    {
     "name": "stderr",
     "output_type": "stream",
     "text": [
      "2025-05-12 23:14:28,470 - generate_embeddings_v3 - INFO - Generating embeddings for 203 valid chunks\n"
     ]
    },
    {
     "data": {
      "application/vnd.jupyter.widget-view+json": {
       "model_id": "9f04c4c2a5414535a0dbcc58113b6752",
       "version_major": 2,
       "version_minor": 0
      },
      "text/plain": [
       "Batches:   0%|          | 0/7 [00:00<?, ?it/s]"
      ]
     },
     "metadata": {},
     "output_type": "display_data"
    },
    {
     "name": "stderr",
     "output_type": "stream",
     "text": [
      "2025-05-12 23:14:31,729 - generate_embeddings_v3 - INFO - Embeddings generated in 3.26 seconds\n",
      "2025-05-12 23:14:31,731 - generate_embeddings_v3 - INFO - Embedding shape: (203, 384)\n"
     ]
    }
   ],
   "source": [
    "# Generate embeddings\n",
    "embeddings_array, chunks_with_embeddings = generate_embeddings_for_chunks(chunks_data, model)"
   ]
  },
  {
   "cell_type": "markdown",
   "metadata": {},
   "source": [
    "## Save Embeddings"
   ]
  },
  {
   "cell_type": "code",
   "execution_count": 24,
   "metadata": {},
   "outputs": [],
   "source": [
    "def save_embedding_data(chunks_with_embeddings, embeddings_array, output_dir):\n",
    "    \"\"\"\n",
    "    Save the embedding data in various formats.\n",
    "    \n",
    "    Args:\n",
    "        chunks_with_embeddings (list): List of chunks with embeddings\n",
    "        embeddings_array (numpy.ndarray): Array of embeddings\n",
    "        output_dir (str): Directory to save the output files\n",
    "    \"\"\"\n",
    "    if not chunks_with_embeddings or embeddings_array.size == 0:\n",
    "        logger.error(\"No embedding data to save\")\n",
    "        return\n",
    "    \n",
    "    # Create a metadata-only version (without embeddings) for easier inspection\n",
    "    chunks_metadata = []\n",
    "    for chunk in chunks_with_embeddings:\n",
    "        chunk_meta = {k: v for k, v in chunk.items() if k != \"embedding\"}\n",
    "        chunks_metadata.append(chunk_meta)\n",
    "    \n",
    "    # Save the chunks with embeddings as JSON\n",
    "    chunks_with_embeddings_path = os.path.join(output_dir, \"chunks_with_embeddings.json\")\n",
    "    with open(chunks_with_embeddings_path, 'w', encoding='utf-8') as f:\n",
    "        json.dump(chunks_with_embeddings, f, ensure_ascii=False, indent=2)\n",
    "    logger.info(f\"Saved chunks with embeddings to {chunks_with_embeddings_path}\")\n",
    "    \n",
    "    # Save metadata-only version\n",
    "    chunks_metadata_path = os.path.join(output_dir, \"chunks_metadata.json\")\n",
    "    with open(chunks_metadata_path, 'w', encoding='utf-8') as f:\n",
    "        json.dump(chunks_metadata, f, ensure_ascii=False, indent=2)\n",
    "    logger.info(f\"Saved chunks metadata to {chunks_metadata_path}\")\n",
    "    \n",
    "    # Save the embeddings as NumPy array\n",
    "    embeddings_npy_path = os.path.join(output_dir, \"embeddings.npy\")\n",
    "    np.save(embeddings_npy_path, embeddings_array)\n",
    "    logger.info(f\"Saved embeddings array to {embeddings_npy_path}\")\n",
    "    \n",
    "    # Save as pickle for easier loading\n",
    "    pickle_path = os.path.join(output_dir, \"embeddings_data.pkl\")\n",
    "    with open(pickle_path, 'wb') as f:\n",
    "        pickle.dump({\n",
    "            'chunks_with_embeddings': chunks_with_embeddings,\n",
    "            'embeddings_array': embeddings_array\n",
    "        }, f)\n",
    "    logger.info(f\"Saved pickle data to {pickle_path}\")\n",
    "    \n",
    "    logger.info(f\"All embedding data saved to {output_dir}\")"
   ]
  },
  {
   "cell_type": "code",
   "execution_count": 25,
   "metadata": {},
   "outputs": [
    {
     "name": "stderr",
     "output_type": "stream",
     "text": [
      "2025-05-12 23:14:31,884 - generate_embeddings_v3 - INFO - Saved chunks with embeddings to ../data/embeddings\\header_chunks_all_MiniLM_L6_v2_20250512_231425\\chunks_with_embeddings.json\n",
      "2025-05-12 23:14:31,898 - generate_embeddings_v3 - INFO - Saved chunks metadata to ../data/embeddings\\header_chunks_all_MiniLM_L6_v2_20250512_231425\\chunks_metadata.json\n",
      "2025-05-12 23:14:31,901 - generate_embeddings_v3 - INFO - Saved embeddings array to ../data/embeddings\\header_chunks_all_MiniLM_L6_v2_20250512_231425\\embeddings.npy\n",
      "2025-05-12 23:14:31,909 - generate_embeddings_v3 - INFO - Saved pickle data to ../data/embeddings\\header_chunks_all_MiniLM_L6_v2_20250512_231425\\embeddings_data.pkl\n",
      "2025-05-12 23:14:31,910 - generate_embeddings_v3 - INFO - All embedding data saved to ../data/embeddings\\header_chunks_all_MiniLM_L6_v2_20250512_231425\n"
     ]
    }
   ],
   "source": [
    "# Save the embeddings data\n",
    "save_embedding_data(chunks_with_embeddings, embeddings_array, output_dir)"
   ]
  },
  {
   "cell_type": "markdown",
   "metadata": {},
   "source": [
    "## Analyze Embeddings"
   ]
  },
  {
   "cell_type": "code",
   "execution_count": 26,
   "metadata": {},
   "outputs": [],
   "source": [
    "def analyze_embeddings(embeddings_array, chunks_metadata, output_dir):\n",
    "    \"\"\"\n",
    "    Analyze embeddings using dimension reduction techniques and create visualizations.\n",
    "    \n",
    "    Args:\n",
    "        embeddings_array (numpy.ndarray): Array of embeddings\n",
    "        chunks_metadata (list): List of chunks metadata (without embeddings)\n",
    "        output_dir (str): Directory to save the output files\n",
    "    \"\"\"\n",
    "    if embeddings_array.size == 0:\n",
    "        logger.error(\"No embeddings to analyze\")\n",
    "        return\n",
    "    \n",
    "    logger.info(\"Analyzing embeddings...\")\n",
    "    \n",
    "    # Basic statistics\n",
    "    embedding_dim = embeddings_array.shape[1]\n",
    "    embedding_mean = np.mean(embeddings_array, axis=0)\n",
    "    embedding_std = np.std(embeddings_array, axis=0)\n",
    "    \n",
    "    logger.info(f\"Embedding dimension: {embedding_dim}\")\n",
    "    logger.info(f\"Mean magnitude: {np.linalg.norm(embedding_mean):.4f}\")\n",
    "    logger.info(f\"Mean standard deviation: {np.mean(embedding_std):.4f}\")\n",
    "    \n",
    "    # Create a DataFrame from chunks_metadata for easier analysis\n",
    "    df = pd.DataFrame(chunks_metadata)\n",
    "    \n",
    "    # PCA analysis (reduce to 2D for visualization)\n",
    "    logger.info(\"Performing PCA dimensionality reduction...\")\n",
    "    pca = PCA(n_components=2)\n",
    "    pca_result = pca.fit_transform(embeddings_array)\n",
    "    logger.info(f\"PCA explained variance ratio: {pca.explained_variance_ratio_}\")\n",
    "    \n",
    "    # t-SNE analysis\n",
    "    logger.info(\"Performing t-SNE dimensionality reduction...\")\n",
    "    tsne = TSNE(n_components=2, random_state=42, perplexity=min(30, len(embeddings_array)-1))\n",
    "    tsne_result = tsne.fit_transform(embeddings_array)\n",
    "    \n",
    "    # Save the dimension reduction results\n",
    "    dimension_reduction_path = os.path.join(output_dir, \"dimension_reduction.pkl\")\n",
    "    with open(dimension_reduction_path, 'wb') as f:\n",
    "        pickle.dump({\n",
    "            'pca_result': pca_result,\n",
    "            'tsne_result': tsne_result,\n",
    "            'pca_explained_variance': pca.explained_variance_ratio_\n",
    "        }, f)\n",
    "    logger.info(f\"Saved dimension reduction results to {dimension_reduction_path}\")\n",
    "    \n",
    "    # Create visualizations\n",
    "    plt.figure(figsize=(12, 10))\n",
    "    \n",
    "    # PCA plot\n",
    "    plt.subplot(2, 1, 1)\n",
    "    plt.scatter(pca_result[:, 0], pca_result[:, 1], alpha=0.7)\n",
    "    plt.title('PCA Visualization of Embeddings')\n",
    "    plt.xlabel(f'PC1 ({pca.explained_variance_ratio_[0]:.2%})')\n",
    "    plt.ylabel(f'PC2 ({pca.explained_variance_ratio_[1]:.2%})')\n",
    "    plt.grid(alpha=0.3)\n",
    "    \n",
    "    # t-SNE plot\n",
    "    plt.subplot(2, 1, 2)\n",
    "    plt.scatter(tsne_result[:, 0], tsne_result[:, 1], alpha=0.7)\n",
    "    plt.title('t-SNE Visualization of Embeddings')\n",
    "    plt.xlabel('t-SNE dimension 1')\n",
    "    plt.ylabel('t-SNE dimension 2')\n",
    "    plt.grid(alpha=0.3)\n",
    "    \n",
    "    plt.tight_layout()\n",
    "    \n",
    "    # Save the visualization\n",
    "    viz_path = os.path.join(output_dir, \"embeddings_visualization.png\")\n",
    "    plt.savefig(viz_path, dpi=300, bbox_inches='tight')\n",
    "    logger.info(f\"Saved visualization to {viz_path}\")\n",
    "    \n",
    "    plt.close()\n",
    "    \n",
    "    return pca_result, tsne_result"
   ]
  },
  {
   "cell_type": "code",
   "execution_count": 27,
   "metadata": {},
   "outputs": [],
   "source": [
    "# Create metadata-only version for analysis\n",
    "chunks_metadata = [{k: v for k, v in chunk.items() if k != \"embedding\"} for chunk in chunks_with_embeddings]"
   ]
  },
  {
   "cell_type": "code",
   "execution_count": 28,
   "metadata": {},
   "outputs": [
    {
     "name": "stderr",
     "output_type": "stream",
     "text": [
      "2025-05-12 23:14:31,969 - generate_embeddings_v3 - INFO - Analyzing embeddings...\n",
      "2025-05-12 23:14:31,971 - generate_embeddings_v3 - INFO - Embedding dimension: 384\n",
      "2025-05-12 23:14:31,972 - generate_embeddings_v3 - INFO - Mean magnitude: 0.5716\n",
      "2025-05-12 23:14:31,973 - generate_embeddings_v3 - INFO - Mean standard deviation: 0.0413\n",
      "2025-05-12 23:14:31,974 - generate_embeddings_v3 - INFO - Performing PCA dimensionality reduction...\n",
      "2025-05-12 23:14:32,045 - generate_embeddings_v3 - INFO - PCA explained variance ratio: [0.09954347 0.07689151]\n",
      "2025-05-12 23:14:32,046 - generate_embeddings_v3 - INFO - Performing t-SNE dimensionality reduction...\n",
      "2025-05-12 23:14:32,555 - generate_embeddings_v3 - INFO - Saved dimension reduction results to ../data/embeddings\\header_chunks_all_MiniLM_L6_v2_20250512_231425\\dimension_reduction.pkl\n",
      "2025-05-12 23:14:33,230 - generate_embeddings_v3 - INFO - Saved visualization to ../data/embeddings\\header_chunks_all_MiniLM_L6_v2_20250512_231425\\embeddings_visualization.png\n"
     ]
    },
    {
     "data": {
      "image/png": "[encoded data removed]",
      "text/plain": [
       "<Figure size 1000x800 with 1 Axes>"
      ]
     },
     "metadata": {},
     "output_type": "display_data"
    },
    {
     "data": {
      "image/png": "[encoded data removed]",
      "text/plain": [
       "<Figure size 1000x800 with 1 Axes>"
      ]
     },
     "metadata": {},
     "output_type": "display_data"
    }
   ],
   "source": [
    "# Analyze the embeddings\n",
    "if len(chunks_with_embeddings) > 0:\n",
    "    pca_result, tsne_result = analyze_embeddings(embeddings_array, chunks_metadata, output_dir)\n",
    "    \n",
    "    # Display the PCA plot\n",
    "    plt.figure(figsize=(10, 8))\n",
    "    plt.scatter(pca_result[:, 0], pca_result[:, 1], alpha=0.7)\n",
    "    plt.title('PCA Visualization of Embeddings')\n",
    "    plt.grid(alpha=0.3)\n",
    "    plt.savefig(os.path.join(output_dir, \"pca_plot.png\"))\n",
    "    \n",
    "    # Display the t-SNE plot\n",
    "    plt.figure(figsize=(10, 8))\n",
    "    plt.scatter(tsne_result[:, 0], tsne_result[:, 1], alpha=0.7)\n",
    "    plt.title('t-SNE Visualization of Embeddings')\n",
    "    plt.grid(alpha=0.3)\n",
    "    plt.savefig(os.path.join(output_dir, \"tsne_plot.png\"))\n",
    "else:\n",
    "    logger.warning(\"Skipping embedding analysis as no valid embeddings were generated\")"
   ]
  },
  {
   "cell_type": "markdown",
   "metadata": {},
   "source": [
    "## Summary\n",
    "\n",
    "In this notebook, we have:\n",
    "\n",
    "1. Loaded markdown chunks from the `data/chunks` directory\n",
    "2. Generated embeddings for those chunks using the Sentence Transformer model\n",
    "3. Saved the embeddings in various formats for later use\n",
    "4. Analyzed the embeddings using dimensionality reduction techniques (PCA and t-SNE)\n",
    "5. Created visualizations of the embeddings\n",
    "\n",
    "The generated embeddings can now be used for retrieval tasks or to build a vector database for a RAG system."
   ]
  }
 ],
 "metadata": {
  "kernelspec": {
   "display_name": "venv",
   "language": "python",
   "name": "python3"
  },
  "language_info": {
   "codemirror_mode": {
    "name": "ipython",
    "version": 3
   },
   "file_extension": ".py",
   "mimetype": "text/x-python",
   "name": "python",
   "nbconvert_exporter": "python",
   "pygments_lexer": "ipython3",
   "version": "3.13.3"
  }
 },
 "nbformat": 4,
 "nbformat_minor": 4
}
