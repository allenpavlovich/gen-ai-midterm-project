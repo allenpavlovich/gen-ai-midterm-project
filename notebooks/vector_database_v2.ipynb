{
 "cells": [
  {
   "cell_type": "markdown",
   "metadata": {},
   "source": [
    "# Building a Vector Database with ChromaDB\n",
    "\n",
    "This notebook implements a vector database using ChromaDB to store and efficiently retrieve the embeddings we generated in the previous step. ChromaDB is a lightweight, embedded vector database that works well for RAG applications and doesn't require any external services."
   ]
  },
  {
   "cell_type": "code",
   "execution_count": 1,
   "metadata": {},
   "outputs": [],
   "source": [
    "# Import required libraries\n",
    "import os\n",
    "import json\n",
    "import numpy as np\n",
    "import pandas as pd\n",
    "from pathlib import Path\n",
    "from tqdm.notebook import tqdm # For progress bars in Jupyter\n",
    "import logging \n",
    "import time # For timing the main execution\n",
    "from datetime import datetime"
   ]
  },
  {
   "cell_type": "code",
   "execution_count": 2,
   "metadata": {},
   "outputs": [],
   "source": [
    "# Import ChromaDB\n",
    "import chromadb"
   ]
  },
  {
   "cell_type": "code",
   "execution_count": 3,
   "metadata": {},
   "outputs": [],
   "source": [
    "# For query embedding and testing\n",
    "from sentence_transformers import SentenceTransformer\n",
    "import torch # For checking CUDA availability for SentenceTransformer"
   ]
  },
  {
   "cell_type": "code",
   "execution_count": 4,
   "metadata": {},
   "outputs": [],
   "source": [
    "# Directory with stored embeddings (output from generate_embeddings.ipynb)\n",
    "EMBEDDINGS_DIR = \"../data/embeddings\"  \n",
    "# File containing chunks with their pre-computed embeddings and metadata\n",
    "CHUNKS_WITH_EMBEDDINGS_FILE = os.path.join(EMBEDDINGS_DIR, \"chunks_with_embeddings.json\") \n",
    "# Directory to store ChromaDB persistent files\n",
    "CHROMA_DB_DIR = \"../data/chroma_db\"  \n",
    "# Output directory for log files\n",
    "LOGS_DIR = \"../logs\" \n",
    "# Name for the ChromaDB collection\n",
    "COLLECTION_NAME = \"uchicago_ms_applied_ds\"\n",
    "# Sentence Transformer model name (must be the same as used for generating document embeddings)\n",
    "QUERY_EMBEDDING_MODEL_NAME = \"all-MiniLM-L6-v2\"\n",
    "# Batch size for adding documents to ChromaDB\n",
    "CHROMA_ADD_BATCH_SIZE = 100 # Adjust based on your system's memory"
   ]
  },
  {
   "cell_type": "code",
   "execution_count": 5,
   "metadata": {},
   "outputs": [],
   "source": [
    "# Create output directories if they don't exist\n",
    "Path(CHROMA_DB_DIR).mkdir(parents=True, exist_ok=True)\n",
    "Path(LOGS_DIR).mkdir(parents=True, exist_ok=True)"
   ]
  },
  {
   "cell_type": "code",
   "execution_count": 6,
   "metadata": {},
   "outputs": [],
   "source": [
    "# Setup logging\n",
    "log_file = Path(LOGS_DIR) / f\"vector_database_{datetime.now().strftime('%Y%m%d_%H%M%S')}.log\"\n",
    "logging.basicConfig(\n",
    "    level=logging.INFO,\n",
    "    format='%(asctime)s - %(levelname)s - %(module)s - %(funcName)s - %(message)s',\n",
    "    handlers=[\n",
    "        logging.FileHandler(log_file, encoding='utf-8'),\n",
    "        logging.StreamHandler()\n",
    "    ]\n",
    ")\n",
    "logger = logging.getLogger(__name__)"
   ]
  },
  {
   "cell_type": "code",
   "execution_count": 7,
   "metadata": {},
   "outputs": [],
   "source": [
    "def load_data_for_chroma(chunks_with_embeddings_filepath_str):\n",
    "    \"\"\"\n",
    "    Load chunks, their pre-computed embeddings, and metadata from the JSON file.\n",
    "    Prepares data in the format required by ChromaDB.\n",
    "    \"\"\"\n",
    "    chunks_file = Path(chunks_with_embeddings_filepath_str)\n",
    "    if not chunks_file.exists():\n",
    "        logger.error(f\"Data file not found: {chunks_file}. Please run the embedding generation script first.\")\n",
    "        return None, None, None, None\n",
    "\n",
    "    try:\n",
    "        with open(chunks_file, \"r\", encoding=\"utf-8\") as f:\n",
    "            loaded_data = json.load(f)\n",
    "        logger.info(f\"Successfully loaded {len(loaded_data)} items from {chunks_file}\")\n",
    "\n",
    "        ids_list = []\n",
    "        embeddings_list = []\n",
    "        documents_list = []\n",
    "        metadatas_list = []\n",
    "\n",
    "        for i, item in enumerate(loaded_data):\n",
    "            content_key = 'page_content' if 'page_content' in item else 'content'\n",
    "            doc_content = item.get(content_key, \"\")\n",
    "            embedding_vector = item.get('embedding')\n",
    "            metadata_dict = item.get('metadata', {}).copy() # Make a copy to modify\n",
    "\n",
    "            if not doc_content or embedding_vector is None:\n",
    "                logger.warning(f\"Skipping item at index {i} due to missing content or embedding.\")\n",
    "                continue\n",
    "\n",
    "            # Ensure metadata values are Chroma-compatible (str, int, float, bool)\n",
    "            for key, value in metadata_dict.items():\n",
    "                if not isinstance(value, (str, int, float, bool)):\n",
    "                    metadata_dict[key] = str(value) # Convert other types to string\n",
    "\n",
    "            # Use 'chunk_id' from metadata if available, otherwise generate one\n",
    "            # The updated_markdown_chunking script should provide a good 'chunk_id'\n",
    "            chunk_id = metadata_dict.get('chunk_id', f\"chunk_{metadata_dict.get('filename', 'unknown')}_{metadata_dict.get('chunk_number', i)}\")\n",
    "            \n",
    "            ids_list.append(chunk_id)\n",
    "            embeddings_list.append(embedding_vector) # Chroma expects list of lists for embeddings\n",
    "            documents_list.append(doc_content)\n",
    "            metadatas_list.append(metadata_dict)\n",
    "            \n",
    "        if not ids_list: # If all items were skipped\n",
    "            logger.error(\"No valid data to load for ChromaDB.\")\n",
    "            return None, None, None, None\n",
    "\n",
    "        logger.info(f\"Prepared {len(ids_list)} items for ChromaDB.\")\n",
    "        logger.info(f\"Sample ID: {ids_list[0]}\")\n",
    "        logger.info(f\"Sample Document (start): {documents_list[0][:100]}...\")\n",
    "        logger.info(f\"Sample Metadata: {metadatas_list[0]}\")\n",
    "        \n",
    "        return ids_list, embeddings_list, documents_list, metadatas_list\n",
    "\n",
    "    except json.JSONDecodeError as e:\n",
    "        logger.error(f\"Error decoding JSON from {chunks_file}: {e}\")\n",
    "        return None, None, None, None\n",
    "    except Exception as e:\n",
    "        logger.error(f\"Unexpected error loading data for ChromaDB: {e}\", exc_info=True)\n",
    "        return None, None, None, None"
   ]
  },
  {
   "cell_type": "code",
   "execution_count": 8,
   "metadata": {},
   "outputs": [],
   "source": [
    "def initialize_chroma_client_and_collection(db_path_str, collection_name_str):\n",
    "    \"\"\"\n",
    "    Initialize ChromaDB client and create/get a collection.\n",
    "    The collection will use cosine distance, suitable for Sentence Transformers.\n",
    "    \"\"\"\n",
    "    db_path = Path(db_path_str)\n",
    "    try:\n",
    "        client = chromadb.PersistentClient(path=str(db_path))\n",
    "        logger.info(f\"Initialized ChromaDB client with persistent storage at: {db_path}\")\n",
    "        \n",
    "        # Get or create the collection with cosine distance\n",
    "        # Sentence Transformer embeddings are typically compared using cosine similarity.\n",
    "        # Chroma's \"cosine\" distance is 1 - cosine_similarity. Lower distance = more similar.\n",
    "        collection = client.get_or_create_collection(\n",
    "            name=collection_name_str,\n",
    "            metadata={\"hnsw:space\": \"cosine\"} # Specifies cosine distance for HNSW index\n",
    "        )\n",
    "        logger.info(f\"Successfully got or created collection: '{collection_name_str}' with cosine distance.\")\n",
    "        return client, collection\n",
    "    except Exception as e:\n",
    "        logger.error(f\"Error initializing ChromaDB client or collection: {e}\", exc_info=True)\n",
    "        return None, None"
   ]
  },
  {
   "cell_type": "code",
   "execution_count": 9,
   "metadata": {},
   "outputs": [],
   "source": [
    "def add_data_to_chroma_collection(collection_instance, ids_list, embeddings_list, documents_list, metadatas_list, batch_size=CHROMA_ADD_BATCH_SIZE):\n",
    "    \"\"\"\n",
    "    Add data (with pre-computed embeddings) to the ChromaDB collection in batches.\n",
    "    \"\"\"\n",
    "    if collection_instance is None or not ids_list:\n",
    "        logger.error(\"ChromaDB collection not initialized or no data to add.\")\n",
    "        return False\n",
    "    \n",
    "    if not (len(ids_list) == len(embeddings_list) == len(documents_list) == len(metadatas_list)):\n",
    "        logger.error(\"Mismatch in lengths of IDs, embeddings, documents, or metadatas lists.\")\n",
    "        return False\n",
    "\n",
    "    try:\n",
    "        num_items = len(ids_list)\n",
    "        for i in tqdm(range(0, num_items, batch_size), desc=\"Adding data to ChromaDB\"):\n",
    "            batch_end_idx = min(i + batch_size, num_items)\n",
    "            \n",
    "            current_batch_ids = ids_list[i:batch_end_idx]\n",
    "            current_batch_embeddings = embeddings_list[i:batch_end_idx]\n",
    "            current_batch_documents = documents_list[i:batch_end_idx]\n",
    "            current_batch_metadatas = metadatas_list[i:batch_end_idx]\n",
    "            \n",
    "            collection_instance.add(\n",
    "                ids=current_batch_ids,\n",
    "                embeddings=current_batch_embeddings,\n",
    "                documents=current_batch_documents,\n",
    "                metadatas=current_batch_metadatas\n",
    "            )\n",
    "        logger.info(f\"Successfully added/updated {num_items} documents in ChromaDB collection '{collection_instance.name}'.\")\n",
    "        logger.info(f\"Collection now contains {collection_instance.count()} items.\")\n",
    "        return True\n",
    "    except Exception as e:\n",
    "        logger.error(f\"Error adding data to ChromaDB: {e}\", exc_info=True)\n",
    "        return False"
   ]
  },
  {
   "cell_type": "code",
   "execution_count": 10,
   "metadata": {},
   "outputs": [],
   "source": [
    "def initialize_query_embedding_model(model_name=QUERY_EMBEDDING_MODEL_NAME):\n",
    "    \"\"\"\n",
    "    Initialize the Sentence Transformer model for embedding queries.\n",
    "    This should be the same model used to generate the document embeddings.\n",
    "    \"\"\"\n",
    "    logger.info(f\"Initializing Sentence Transformer model for queries: {model_name}\")\n",
    "    try:\n",
    "        model = SentenceTransformer(model_name)\n",
    "        device = \"cuda\" if torch.cuda.is_available() else \"cpu\"\n",
    "        model.to(device) # Move model to GPU if available\n",
    "        logger.info(f\"Query embedding model '{model_name}' initialized on device: {device}\")\n",
    "        return model\n",
    "    except Exception as e:\n",
    "        logger.error(f\"Error loading query embedding model '{model_name}': {e}\", exc_info=True)\n",
    "        return None"
   ]
  },
  {
   "cell_type": "code",
   "execution_count": 11,
   "metadata": {},
   "outputs": [],
   "source": [
    "def query_chroma_collection(collection_instance, query_text_str, query_model_instance, top_n_results=5, metadata_filter_dict=None):\n",
    "    \"\"\"\n",
    "    Embed a query and search the ChromaDB collection.\n",
    "    \"\"\"\n",
    "    if collection_instance is None or query_model_instance is None:\n",
    "        logger.error(\"ChromaDB collection or query model not initialized.\")\n",
    "        return None\n",
    "    \n",
    "    try:\n",
    "        query_embedding_vector = query_model_instance.encode(query_text_str).tolist() # Chroma expects list\n",
    "        \n",
    "        logger.info(f\"Querying collection for: \\\"{query_text_str}\\\"\")\n",
    "        if metadata_filter_dict:\n",
    "            logger.info(f\"Applying metadata filter: {metadata_filter_dict}\")\n",
    "\n",
    "        results_dict = collection_instance.query(\n",
    "            query_embeddings=[query_embedding_vector], # Query embeddings must be a list of lists\n",
    "            n_results=top_n_results,\n",
    "            where=metadata_filter_dict, # Optional metadata filter\n",
    "            include=['metadatas', 'documents', 'distances'] # Include distances for relevance\n",
    "        )\n",
    "        return results_dict\n",
    "    except Exception as e:\n",
    "        logger.error(f\"Error querying ChromaDB: {e}\", exc_info=True)\n",
    "        return None"
   ]
  },
  {
   "cell_type": "code",
   "execution_count": 12,
   "metadata": {},
   "outputs": [],
   "source": [
    "def display_query_search_results(query_results_dict, original_query_str):\n",
    "    \"\"\"\n",
    "    Display ChromaDB query results in a readable format.\n",
    "    \"\"\"\n",
    "    if query_results_dict is None or not query_results_dict.get(\"ids\") or not query_results_dict[\"ids\"][0]:\n",
    "        logger.info(f\"No results found for query: \\\"{original_query_str}\\\"\")\n",
    "        return\n",
    "\n",
    "    logger.info(f\"\\n--- Search Results for Query: \\\"{original_query_str}\\\" ---\")\n",
    "    \n",
    "    for i in range(len(query_results_dict[\"ids\"][0])):\n",
    "        doc_id = query_results_dict[\"ids\"][0][i]\n",
    "        document_text = query_results_dict[\"documents\"][0][i]\n",
    "        metadata_info = query_results_dict[\"metadatas\"][0][i]\n",
    "        distance_score = query_results_dict[\"distances\"][0][i] if query_results_dict.get(\"distances\") else None\n",
    "        \n",
    "        logger.info(\"-\" * 80)\n",
    "        logger.info(f\"Result #{i+1} - ID: {doc_id}\")\n",
    "        if distance_score is not None:\n",
    "            # For cosine distance, similarity = 1 - distance. Higher similarity is better.\n",
    "            # For L2 distance, lower is better.\n",
    "            # Assuming cosine as per collection setup:\n",
    "            relevance_score = 1 - distance_score \n",
    "            logger.info(f\"Relevance (1 - Cosine Distance): {relevance_score:.4f} (Distance: {distance_score:.4f})\")\n",
    "        \n",
    "        logger.info(f\"  Source: {metadata_info.get('source_file', metadata_info.get('filename', 'Unknown'))}\")\n",
    "        logger.info(f\"  Title: {metadata_info.get('title', 'N/A')}\")\n",
    "        logger.info(f\"  Category: {metadata_info.get('category', 'N/A')}\")\n",
    "        logger.info(f\"  Main Heading: {metadata_info.get('main_heading', 'N/A')}\")\n",
    "        logger.info(f\"  Content Snippet: {document_text[:250]}...\")\n",
    "    logger.info(\"-\" * 80)\n"
   ]
  },
  {
   "cell_type": "code",
   "execution_count": 13,
   "metadata": {},
   "outputs": [],
   "source": [
    "def build_retrieval_context(query_str, top_k_docs=3, filter_options_dict=None, \n",
    "                           collection_inst=None, query_embed_model_inst=None): # Added collection and model as params\n",
    "    \"\"\"\n",
    "    Retrieve relevant context strings for a given query, to be used in a RAG system.\n",
    "    \"\"\"\n",
    "    if collection_inst is None or query_embed_model_inst is None:\n",
    "        logger.error(\"Collection or query embedding model not provided for context retrieval.\")\n",
    "        return [\"Error: Vector DB or query model not initialized.\"]\n",
    "\n",
    "    query_search_results = query_chroma_collection(\n",
    "        collection_inst, \n",
    "        query_str, \n",
    "        query_embed_model_inst, \n",
    "        top_n_results=top_k_docs, \n",
    "        metadata_filter_dict=filter_options_dict\n",
    "    )\n",
    "    \n",
    "    if query_search_results is None or not query_search_results.get(\"documents\") or not query_search_results[\"documents\"][0]:\n",
    "        return [\"No relevant information found in the knowledge base.\"]\n",
    "\n",
    "    context_strings_list = []\n",
    "    for i in range(len(query_search_results[\"documents\"][0])):\n",
    "        doc_text = query_search_results[\"documents\"][0][i]\n",
    "        meta_info = query_search_results[\"metadatas\"][0][i]\n",
    "        source_filename = meta_info.get('source_file', meta_info.get('filename', \"Unknown source\"))\n",
    "        doc_title = meta_info.get('title', \"\")\n",
    "        \n",
    "        source_ref = f\"[Source: {Path(source_filename).name}\" + (f\", Title: {doc_title}\" if doc_title else \"\") + \"]\"\n",
    "        context_strings_list.append(f\"Context:\\n{doc_text}\\n{source_ref}\\n\")\n",
    "        \n",
    "    return context_strings_list"
   ]
  },
  {
   "cell_type": "code",
   "execution_count": 14,
   "metadata": {},
   "outputs": [
    {
     "name": "stderr",
     "output_type": "stream",
     "text": [
      "2025-05-12 20:31:58,318 - INFO - 3026463495 - <module> - --- Starting Vector Database Creation and Testing Process ---\n",
      "2025-05-12 20:32:01,876 - INFO - 1859704975 - load_data_for_chroma - Successfully loaded 11532 items from ..\\data\\embeddings\\chunks_with_embeddings.json\n",
      "2025-05-12 20:32:01,901 - INFO - 1859704975 - load_data_for_chroma - Prepared 11532 items for ChromaDB.\n",
      "2025-05-12 20:32:01,903 - INFO - 1859704975 - load_data_for_chroma - Sample ID: 11th-hour-project_0\n",
      "2025-05-12 20:32:01,904 - INFO - 1859704975 - load_data_for_chroma - Sample Document (start): 11th Hour Project Software and Data Hub...\n",
      "2025-05-12 20:32:01,906 - INFO - 1859704975 - load_data_for_chroma - Sample Metadata: {'title': '11th Hour Project Software and Data Hub – DSI', 'original_url': 'https://datascience.uchicago.edu/11th-hour-project', 'category': '11th-hour-project', 'processing_date': '2025-05-12 13:20:18', 'source_file': 'C:\\\\Users\\\\alen.pavlovic\\\\Documents\\\\GitLab\\\\gen-ai-midterm-project\\\\data\\\\markdown_processed\\\\11th-hour-project\\\\11th-hour-project.md', 'filename': '11th-hour-project.md', 'chunk_id': '11th-hour-project_0', 'chunk_number': 0, 'total_chunks_in_file': 17}\n",
      "2025-05-12 20:32:01,940 - INFO - posthog - __init__ - Anonymized telemetry enabled. See                     https://docs.trychroma.com/telemetry for more information.\n",
      "2025-05-12 20:32:02,111 - INFO - 3733442883 - initialize_chroma_client_and_collection - Initialized ChromaDB client with persistent storage at: ..\\data\\chroma_db\n",
      "2025-05-12 20:32:02,174 - INFO - 3733442883 - initialize_chroma_client_and_collection - Successfully got or created collection: 'uchicago_ms_applied_ds' with cosine distance.\n",
      "2025-05-12 20:32:02,178 - INFO - 3026463495 - <module> - Collection 'uchicago_ms_applied_ds' is empty. Populating with new data.\n"
     ]
    },
    {
     "data": {
      "application/vnd.jupyter.widget-view+json": {
       "model_id": "6d1096a43b1549bdb33ac0a6db184178",
       "version_major": 2,
       "version_minor": 0
      },
      "text/plain": [
       "Adding data to ChromaDB:   0%|          | 0/116 [00:00<?, ?it/s]"
      ]
     },
     "metadata": {},
     "output_type": "display_data"
    },
    {
     "name": "stderr",
     "output_type": "stream",
     "text": [
      "2025-05-12 20:32:20,213 - INFO - 994437601 - add_data_to_chroma_collection - Successfully added/updated 11532 documents in ChromaDB collection 'uchicago_ms_applied_ds'.\n",
      "2025-05-12 20:32:20,219 - INFO - 994437601 - add_data_to_chroma_collection - Collection now contains 11532 items.\n",
      "2025-05-12 20:32:20,219 - INFO - 2929584852 - initialize_query_embedding_model - Initializing Sentence Transformer model for queries: all-MiniLM-L6-v2\n",
      "2025-05-12 20:32:20,223 - INFO - SentenceTransformer - __init__ - Use pytorch device_name: cpu\n",
      "2025-05-12 20:32:20,224 - INFO - SentenceTransformer - __init__ - Load pretrained SentenceTransformer: all-MiniLM-L6-v2\n",
      "2025-05-12 20:32:23,177 - INFO - 2929584852 - initialize_query_embedding_model - Query embedding model 'all-MiniLM-L6-v2' initialized on device: cpu\n"
     ]
    },
    {
     "data": {
      "application/vnd.jupyter.widget-view+json": {
       "model_id": "be431ebb2f394002a1776690f44b57a6",
       "version_major": 2,
       "version_minor": 0
      },
      "text/plain": [
       "Batches:   0%|          | 0/1 [00:00<?, ?it/s]"
      ]
     },
     "metadata": {},
     "output_type": "display_data"
    },
    {
     "name": "stderr",
     "output_type": "stream",
     "text": [
      "2025-05-12 20:32:23,307 - INFO - 3705718800 - query_chroma_collection - Querying collection for: \"What are the core courses for the MS in Applied Data Science?\"\n",
      "2025-05-12 20:32:23,359 - INFO - 3860143155 - display_query_search_results - \n",
      "--- Search Results for Query: \"What are the core courses for the MS in Applied Data Science?\" ---\n",
      "2025-05-12 20:32:23,361 - INFO - 3860143155 - display_query_search_results - --------------------------------------------------------------------------------\n",
      "2025-05-12 20:32:23,362 - INFO - 3860143155 - display_query_search_results - Result #1 - ID: education-masters-programs-ms-in-applied-data-science-our-students_5\n",
      "2025-05-12 20:32:23,364 - INFO - 3860143155 - display_query_search_results - Relevance (1 - Cosine Distance): 0.8033 (Distance: 0.1967)\n",
      "2025-05-12 20:32:23,365 - INFO - 3860143155 - display_query_search_results -   Source: C:\\Users\\alen.pavlovic\\Documents\\GitLab\\gen-ai-midterm-project\\data\\markdown_processed\\education\\education-masters-programs-ms-in-applied-data-science-our-students.md\n",
      "2025-05-12 20:32:23,366 - INFO - 3860143155 - display_query_search_results -   Title: Our Students – DSI\n",
      "2025-05-12 20:32:23,367 - INFO - 3860143155 - display_query_search_results -   Category: education\n",
      "2025-05-12 20:32:23,367 - INFO - 3860143155 - display_query_search_results -   Main Heading: N/A\n",
      "2025-05-12 20:32:23,368 - INFO - 3860143155 - display_query_search_results -   Content Snippet: When considering my decision to pursue the MS in Applied Data Science Program at UChicago, I was influenced by several compelling factors. Firstly, the curriculum was a standout feature. The core courses provide a comprehensive exploration of the the...\n",
      "2025-05-12 20:32:23,368 - INFO - 3860143155 - display_query_search_results - --------------------------------------------------------------------------------\n",
      "2025-05-12 20:32:23,369 - INFO - 3860143155 - display_query_search_results - Result #2 - ID: people-ej-kang_4\n",
      "2025-05-12 20:32:23,370 - INFO - 3860143155 - display_query_search_results - Relevance (1 - Cosine Distance): 0.8033 (Distance: 0.1967)\n",
      "2025-05-12 20:32:23,371 - INFO - 3860143155 - display_query_search_results -   Source: C:\\Users\\alen.pavlovic\\Documents\\GitLab\\gen-ai-midterm-project\\data\\markdown_processed\\people\\people-ej-kang.md\n",
      "2025-05-12 20:32:23,372 - INFO - 3860143155 - display_query_search_results -   Title: EJ Kang – DSI\n",
      "2025-05-12 20:32:23,372 - INFO - 3860143155 - display_query_search_results -   Category: people\n",
      "2025-05-12 20:32:23,373 - INFO - 3860143155 - display_query_search_results -   Main Heading: N/A\n",
      "2025-05-12 20:32:23,374 - INFO - 3860143155 - display_query_search_results -   Content Snippet: When considering my decision to pursue the MS in Applied Data Science Program at UChicago, I was influenced by several compelling factors. Firstly, the curriculum was a standout feature. The core courses provide a comprehensive exploration of the the...\n",
      "2025-05-12 20:32:23,375 - INFO - 3860143155 - display_query_search_results - --------------------------------------------------------------------------------\n",
      "2025-05-12 20:32:23,376 - INFO - 3860143155 - display_query_search_results - Result #3 - ID: news-applying-to-the-ms-in-applied-data-science-program-heres-what-we-look-for_0\n",
      "2025-05-12 20:32:23,377 - INFO - 3860143155 - display_query_search_results - Relevance (1 - Cosine Distance): 0.7580 (Distance: 0.2420)\n",
      "2025-05-12 20:32:23,378 - INFO - 3860143155 - display_query_search_results -   Source: C:\\Users\\alen.pavlovic\\Documents\\GitLab\\gen-ai-midterm-project\\data\\markdown_processed\\news\\news-applying-to-the-ms-in-applied-data-science-program-heres-what-we-look-for.md\n",
      "2025-05-12 20:32:23,379 - INFO - 3860143155 - display_query_search_results -   Title: Applying to the MS in Applied Data Science Program? Here’s What We Look For – DSI\n",
      "2025-05-12 20:32:23,380 - INFO - 3860143155 - display_query_search_results -   Category: news\n",
      "2025-05-12 20:32:23,380 - INFO - 3860143155 - display_query_search_results -   Main Heading: N/A\n",
      "2025-05-12 20:32:23,381 - INFO - 3860143155 - display_query_search_results -   Content Snippet: Applying to the MS in Applied Data Science Program? Here’s What We Look For...\n",
      "2025-05-12 20:32:23,383 - INFO - 3860143155 - display_query_search_results - --------------------------------------------------------------------------------\n"
     ]
    },
    {
     "data": {
      "application/vnd.jupyter.widget-view+json": {
       "model_id": "6f88155fe918449f850dd96afcb24047",
       "version_major": 2,
       "version_minor": 0
      },
      "text/plain": [
       "Batches:   0%|          | 0/1 [00:00<?, ?it/s]"
      ]
     },
     "metadata": {},
     "output_type": "display_data"
    },
    {
     "name": "stderr",
     "output_type": "stream",
     "text": [
      "2025-05-12 20:32:23,419 - INFO - 3705718800 - query_chroma_collection - Querying collection for: \"Tell me about the faculty specializing in machine learning.\"\n",
      "2025-05-12 20:32:23,423 - INFO - 3860143155 - display_query_search_results - \n",
      "--- Search Results for Query: \"Tell me about the faculty specializing in machine learning.\" ---\n",
      "2025-05-12 20:32:23,424 - INFO - 3860143155 - display_query_search_results - --------------------------------------------------------------------------------\n",
      "2025-05-12 20:32:23,424 - INFO - 3860143155 - display_query_search_results - Result #1 - ID: news-2020-cdac-summer-lab-kicks-off-with-37-student-researchers_2\n",
      "2025-05-12 20:32:23,425 - INFO - 3860143155 - display_query_search_results - Relevance (1 - Cosine Distance): 0.6581 (Distance: 0.3419)\n",
      "2025-05-12 20:32:23,425 - INFO - 3860143155 - display_query_search_results -   Source: C:\\Users\\alen.pavlovic\\Documents\\GitLab\\gen-ai-midterm-project\\data\\markdown_processed\\news\\news-2020-cdac-summer-lab-kicks-off-with-37-student-researchers.md\n",
      "2025-05-12 20:32:23,426 - INFO - 3860143155 - display_query_search_results -   Title: 2020 CDAC Summer Lab Kicks Off with 37 Student Researchers – DSI\n",
      "2025-05-12 20:32:23,427 - INFO - 3860143155 - display_query_search_results -   Category: news\n",
      "2025-05-12 20:32:23,427 - INFO - 3860143155 - display_query_search_results -   Main Heading: N/A\n",
      "2025-05-12 20:32:23,428 - INFO - 3860143155 - display_query_search_results -   Content Snippet: or staff mentors, studying applied machine learning and AI, human-computer interaction, computational social science, systems, and much more....\n",
      "2025-05-12 20:32:23,429 - INFO - 3860143155 - display_query_search_results - --------------------------------------------------------------------------------\n",
      "2025-05-12 20:32:23,430 - INFO - 3860143155 - display_query_search_results - Result #2 - ID: people-igor-yakushin-phd_0\n",
      "2025-05-12 20:32:23,431 - INFO - 3860143155 - display_query_search_results - Relevance (1 - Cosine Distance): 0.6452 (Distance: 0.3548)\n",
      "2025-05-12 20:32:23,431 - INFO - 3860143155 - display_query_search_results -   Source: C:\\Users\\alen.pavlovic\\Documents\\GitLab\\gen-ai-midterm-project\\data\\markdown_processed\\people\\people-igor-yakushin-phd.md\n",
      "2025-05-12 20:32:23,432 - INFO - 3860143155 - display_query_search_results -   Title: Igor Yakushin, PhD – DSI\n",
      "2025-05-12 20:32:23,432 - INFO - 3860143155 - display_query_search_results -   Category: people\n",
      "2025-05-12 20:32:23,433 - INFO - 3860143155 - display_query_search_results -   Main Heading: N/A\n",
      "2025-05-12 20:32:23,434 - INFO - 3860143155 - display_query_search_results -   Content Snippet: People / MS Instructors\n",
      "Igor Yakushin, PhD\n",
      "Instructor; Applied Scientist\n",
      "PhD in Theoretical Physics, MS in Computer Science. Currently – Applied Scientist at Amazon. Previous jobs: Computational Scientist at the Argonne National Laboratory, Scientist...\n",
      "2025-05-12 20:32:23,434 - INFO - 3860143155 - display_query_search_results - --------------------------------------------------------------------------------\n",
      "2025-05-12 20:32:23,435 - INFO - 3860143155 - display_query_search_results - Result #3 - ID: education-summerlab-2019-cohort_35\n",
      "2025-05-12 20:32:23,436 - INFO - 3860143155 - display_query_search_results - Relevance (1 - Cosine Distance): 0.6296 (Distance: 0.3704)\n",
      "2025-05-12 20:32:23,436 - INFO - 3860143155 - display_query_search_results -   Source: C:\\Users\\alen.pavlovic\\Documents\\GitLab\\gen-ai-midterm-project\\data\\markdown_processed\\education\\education-summerlab-2019-cohort.md\n",
      "2025-05-12 20:32:23,437 - INFO - 3860143155 - display_query_search_results -   Title: 2019 Project Profiles – DSI\n",
      "2025-05-12 20:32:23,438 - INFO - 3860143155 - display_query_search_results -   Category: education\n",
      "2025-05-12 20:32:23,438 - INFO - 3860143155 - display_query_search_results -   Main Heading: N/A\n",
      "2025-05-12 20:32:23,438 - INFO - 3860143155 - display_query_search_results -   Content Snippet: Mentor/Lab: Ryan Chard/Globus Labs\n",
      "Research Area Keywords: Machine Learning // Systems & Architecture...\n",
      "2025-05-12 20:32:23,439 - INFO - 3860143155 - display_query_search_results - --------------------------------------------------------------------------------\n"
     ]
    },
    {
     "data": {
      "application/vnd.jupyter.widget-view+json": {
       "model_id": "cd8f6686097343dbb87ca07543e66313",
       "version_major": 2,
       "version_minor": 0
      },
      "text/plain": [
       "Batches:   0%|          | 0/1 [00:00<?, ?it/s]"
      ]
     },
     "metadata": {},
     "output_type": "display_data"
    },
    {
     "name": "stderr",
     "output_type": "stream",
     "text": [
      "2025-05-12 20:32:23,464 - INFO - 3705718800 - query_chroma_collection - Querying collection for: \"What are the admission requirements?\"\n",
      "2025-05-12 20:32:23,468 - INFO - 3860143155 - display_query_search_results - \n",
      "--- Search Results for Query: \"What are the admission requirements?\" ---\n",
      "2025-05-12 20:32:23,469 - INFO - 3860143155 - display_query_search_results - --------------------------------------------------------------------------------\n",
      "2025-05-12 20:32:23,469 - INFO - 3860143155 - display_query_search_results - Result #1 - ID: education-masters-programs-ms-in-applied-data-science-faqs_17\n",
      "2025-05-12 20:32:23,470 - INFO - 3860143155 - display_query_search_results - Relevance (1 - Cosine Distance): 0.6327 (Distance: 0.3673)\n",
      "2025-05-12 20:32:23,470 - INFO - 3860143155 - display_query_search_results -   Source: C:\\Users\\alen.pavlovic\\Documents\\GitLab\\gen-ai-midterm-project\\data\\markdown_processed\\education\\education-masters-programs-ms-in-applied-data-science-faqs.md\n",
      "2025-05-12 20:32:23,471 - INFO - 3860143155 - display_query_search_results -   Title: FAQs – DSI\n",
      "2025-05-12 20:32:23,471 - INFO - 3860143155 - display_query_search_results -   Category: education\n",
      "2025-05-12 20:32:23,472 - INFO - 3860143155 - display_query_search_results -   Main Heading: N/A\n",
      "2025-05-12 20:32:23,472 - INFO - 3860143155 - display_query_search_results -   Content Snippet: -\n",
      "What are the minimum scores required?...\n",
      "2025-05-12 20:32:23,473 - INFO - 3860143155 - display_query_search_results - --------------------------------------------------------------------------------\n",
      "2025-05-12 20:32:23,473 - INFO - 3860143155 - display_query_search_results - Result #2 - ID: education-summerlab-faq_3\n",
      "2025-05-12 20:32:23,474 - INFO - 3860143155 - display_query_search_results - Relevance (1 - Cosine Distance): 0.5836 (Distance: 0.4164)\n",
      "2025-05-12 20:32:23,474 - INFO - 3860143155 - display_query_search_results -   Source: C:\\Users\\alen.pavlovic\\Documents\\GitLab\\gen-ai-midterm-project\\data\\markdown_processed\\education\\education-summerlab-faq.md\n",
      "2025-05-12 20:32:23,475 - INFO - 3860143155 - display_query_search_results -   Title: FAQ – DSI\n",
      "2025-05-12 20:32:23,476 - INFO - 3860143155 - display_query_search_results -   Category: education\n",
      "2025-05-12 20:32:23,476 - INFO - 3860143155 - display_query_search_results -   Main Heading: N/A\n",
      "2025-05-12 20:32:23,477 - INFO - 3860143155 - display_query_search_results -   Content Snippet: -\n",
      "When is the application due?\n",
      "-\n",
      "Eligibility\n",
      "-\n",
      "Are there any program prerequisites?\n",
      "We do not require any previous research experience to participate in the program. Familiarity in at least one programming language (Python, Java, C++, etc.) is prefer...\n",
      "2025-05-12 20:32:23,477 - INFO - 3860143155 - display_query_search_results - --------------------------------------------------------------------------------\n",
      "2025-05-12 20:32:23,478 - INFO - 3860143155 - display_query_search_results - Result #3 - ID: education-masters-programs-ms-in-applied-data-science-how-to-apply_10\n",
      "2025-05-12 20:32:23,478 - INFO - 3860143155 - display_query_search_results - Relevance (1 - Cosine Distance): 0.5780 (Distance: 0.4220)\n",
      "2025-05-12 20:32:23,479 - INFO - 3860143155 - display_query_search_results -   Source: C:\\Users\\alen.pavlovic\\Documents\\GitLab\\gen-ai-midterm-project\\data\\markdown_processed\\education\\education-masters-programs-ms-in-applied-data-science-how-to-apply.md\n",
      "2025-05-12 20:32:23,480 - INFO - 3860143155 - display_query_search_results -   Title: How to Apply – DSI\n",
      "2025-05-12 20:32:23,483 - INFO - 3860143155 - display_query_search_results -   Category: education\n",
      "2025-05-12 20:32:23,484 - INFO - 3860143155 - display_query_search_results -   Main Heading: N/A\n",
      "2025-05-12 20:32:23,485 - INFO - 3860143155 - display_query_search_results -   Content Snippet: English Language Requirement\n",
      "Applicants to the Master’s in Applied Data Science program who do not meet the English Language Proficiency criteria must submit proof of English language proficiency.\n",
      "Minimum scores for the Master’s in Applied Data Scien...\n",
      "2025-05-12 20:32:23,486 - INFO - 3860143155 - display_query_search_results - --------------------------------------------------------------------------------\n"
     ]
    },
    {
     "data": {
      "application/vnd.jupyter.widget-view+json": {
       "model_id": "d5dde16193144c10a59a1cc322ad85f2",
       "version_major": 2,
       "version_minor": 0
      },
      "text/plain": [
       "Batches:   0%|          | 0/1 [00:00<?, ?it/s]"
      ]
     },
     "metadata": {},
     "output_type": "display_data"
    },
    {
     "name": "stderr",
     "output_type": "stream",
     "text": [
      "2025-05-12 20:32:23,520 - INFO - 3705718800 - query_chroma_collection - Querying collection for: \"How is the capstone project structured?\"\n",
      "2025-05-12 20:32:23,522 - INFO - 3860143155 - display_query_search_results - \n",
      "--- Search Results for Query: \"How is the capstone project structured?\" ---\n",
      "2025-05-12 20:32:23,523 - INFO - 3860143155 - display_query_search_results - --------------------------------------------------------------------------------\n",
      "2025-05-12 20:32:23,523 - INFO - 3860143155 - display_query_search_results - Result #1 - ID: capstone-projects_0\n",
      "2025-05-12 20:32:23,524 - INFO - 3860143155 - display_query_search_results - Relevance (1 - Cosine Distance): 0.8184 (Distance: 0.1816)\n",
      "2025-05-12 20:32:23,524 - INFO - 3860143155 - display_query_search_results -   Source: C:\\Users\\alen.pavlovic\\Documents\\GitLab\\gen-ai-midterm-project\\data\\markdown_processed\\capstone-projects\\capstone-projects.md\n",
      "2025-05-12 20:32:23,525 - INFO - 3860143155 - display_query_search_results -   Title: Capstone Projects – DSI\n",
      "2025-05-12 20:32:23,526 - INFO - 3860143155 - display_query_search_results -   Category: capstone-projects\n",
      "2025-05-12 20:32:23,526 - INFO - 3860143155 - display_query_search_results -   Main Heading: N/A\n",
      "2025-05-12 20:32:23,526 - INFO - 3860143155 - display_query_search_results -   Content Snippet: Capstone Projects...\n",
      "2025-05-12 20:32:23,527 - INFO - 3860143155 - display_query_search_results - --------------------------------------------------------------------------------\n",
      "2025-05-12 20:32:23,528 - INFO - 3860143155 - display_query_search_results - Result #2 - ID: education-masters-programs-ms-in-applied-data-science-capstone-projects_0\n",
      "2025-05-12 20:32:23,528 - INFO - 3860143155 - display_query_search_results - Relevance (1 - Cosine Distance): 0.8184 (Distance: 0.1816)\n",
      "2025-05-12 20:32:23,529 - INFO - 3860143155 - display_query_search_results -   Source: C:\\Users\\alen.pavlovic\\Documents\\GitLab\\gen-ai-midterm-project\\data\\markdown_processed\\education\\education-masters-programs-ms-in-applied-data-science-capstone-projects.md\n",
      "2025-05-12 20:32:23,529 - INFO - 3860143155 - display_query_search_results -   Title: Capstone Projects – DSI\n",
      "2025-05-12 20:32:23,530 - INFO - 3860143155 - display_query_search_results -   Category: education\n",
      "2025-05-12 20:32:23,531 - INFO - 3860143155 - display_query_search_results -   Main Heading: N/A\n",
      "2025-05-12 20:32:23,532 - INFO - 3860143155 - display_query_search_results -   Content Snippet: Capstone Projects...\n",
      "2025-05-12 20:32:23,532 - INFO - 3860143155 - display_query_search_results - --------------------------------------------------------------------------------\n",
      "2025-05-12 20:32:23,533 - INFO - 3860143155 - display_query_search_results - Result #3 - ID: news-applied-data-science-students-craft-ai-powered-storytelling-app_7\n",
      "2025-05-12 20:32:23,533 - INFO - 3860143155 - display_query_search_results - Relevance (1 - Cosine Distance): 0.7456 (Distance: 0.2544)\n",
      "2025-05-12 20:32:23,534 - INFO - 3860143155 - display_query_search_results -   Source: C:\\Users\\alen.pavlovic\\Documents\\GitLab\\gen-ai-midterm-project\\data\\markdown_processed\\news\\news-applied-data-science-students-craft-ai-powered-storytelling-app.md\n",
      "2025-05-12 20:32:23,535 - INFO - 3860143155 - display_query_search_results -   Title: Applied Data Science Students Craft AI-Powered Storytelling App – DSI\n",
      "2025-05-12 20:32:23,535 - INFO - 3860143155 - display_query_search_results -   Category: news\n",
      "2025-05-12 20:32:23,536 - INFO - 3860143155 - display_query_search_results -   Main Heading: N/A\n",
      "2025-05-12 20:32:23,537 - INFO - 3860143155 - display_query_search_results -   Content Snippet: “This hands-on project really cemented our ability to translate technical knowledge into real-world solutions,” the team explained. The capstone project served as a culmination of their learning, bridging theory with practical application.\n",
      "A Standout...\n",
      "2025-05-12 20:32:23,537 - INFO - 3860143155 - display_query_search_results - --------------------------------------------------------------------------------\n",
      "2025-05-12 20:32:23,538 - INFO - 3026463495 - <module> - \n",
      "--- Testing Query with Metadata Filter (category: 11th-hour-project) ---\n"
     ]
    },
    {
     "data": {
      "application/vnd.jupyter.widget-view+json": {
       "model_id": "43788b53f0e7409f92fdd878feb98f6f",
       "version_major": 2,
       "version_minor": 0
      },
      "text/plain": [
       "Batches:   0%|          | 0/1 [00:00<?, ?it/s]"
      ]
     },
     "metadata": {},
     "output_type": "display_data"
    },
    {
     "name": "stderr",
     "output_type": "stream",
     "text": [
      "2025-05-12 20:32:23,621 - INFO - 3705718800 - query_chroma_collection - Querying collection for: \"capstone project\"\n",
      "2025-05-12 20:32:23,622 - INFO - 3705718800 - query_chroma_collection - Applying metadata filter: {'category': '11th-hour-project'}\n",
      "2025-05-12 20:32:24,305 - INFO - 3860143155 - display_query_search_results - \n",
      "--- Search Results for Query: \"capstone project (filtered by category: 11th-hour-project)\" ---\n",
      "2025-05-12 20:32:24,306 - INFO - 3860143155 - display_query_search_results - --------------------------------------------------------------------------------\n",
      "2025-05-12 20:32:24,307 - INFO - 3860143155 - display_query_search_results - Result #1 - ID: 11th-hour-project_2\n",
      "2025-05-12 20:32:24,308 - INFO - 3860143155 - display_query_search_results - Relevance (1 - Cosine Distance): 0.2619 (Distance: 0.7381)\n",
      "2025-05-12 20:32:24,309 - INFO - 3860143155 - display_query_search_results -   Source: C:\\Users\\alen.pavlovic\\Documents\\GitLab\\gen-ai-midterm-project\\data\\markdown_processed\\11th-hour-project\\11th-hour-project.md\n",
      "2025-05-12 20:32:24,309 - INFO - 3860143155 - display_query_search_results -   Title: 11th Hour Project Software and Data Hub – DSI\n",
      "2025-05-12 20:32:24,310 - INFO - 3860143155 - display_query_search_results -   Category: 11th-hour-project\n",
      "2025-05-12 20:32:24,311 - INFO - 3860143155 - display_query_search_results -   Main Heading: N/A\n",
      "2025-05-12 20:32:24,314 - INFO - 3860143155 - display_query_search_results -   Content Snippet: students have the opportunity to drive social and environmental impact through projects with 11th Hour grantees through the Data Science Clinic, DSI Summer Lab, and ongoing research collaborations....\n",
      "2025-05-12 20:32:24,315 - INFO - 3860143155 - display_query_search_results - --------------------------------------------------------------------------------\n",
      "2025-05-12 20:32:24,315 - INFO - 3860143155 - display_query_search_results - Result #2 - ID: 11th-hour-project_0\n",
      "2025-05-12 20:32:24,316 - INFO - 3860143155 - display_query_search_results - Relevance (1 - Cosine Distance): 0.2065 (Distance: 0.7935)\n",
      "2025-05-12 20:32:24,316 - INFO - 3860143155 - display_query_search_results -   Source: C:\\Users\\alen.pavlovic\\Documents\\GitLab\\gen-ai-midterm-project\\data\\markdown_processed\\11th-hour-project\\11th-hour-project.md\n",
      "2025-05-12 20:32:24,317 - INFO - 3860143155 - display_query_search_results -   Title: 11th Hour Project Software and Data Hub – DSI\n",
      "2025-05-12 20:32:24,318 - INFO - 3860143155 - display_query_search_results -   Category: 11th-hour-project\n",
      "2025-05-12 20:32:24,318 - INFO - 3860143155 - display_query_search_results -   Main Heading: N/A\n",
      "2025-05-12 20:32:24,319 - INFO - 3860143155 - display_query_search_results -   Content Snippet: 11th Hour Project Software and Data Hub...\n",
      "2025-05-12 20:32:24,320 - INFO - 3860143155 - display_query_search_results - --------------------------------------------------------------------------------\n",
      "2025-05-12 20:32:24,321 - INFO - 3026463495 - <module> - \n",
      "--- Testing Context Retrieval Function ---\n"
     ]
    },
    {
     "data": {
      "application/vnd.jupyter.widget-view+json": {
       "model_id": "c33ed9a0833347bbacf67be010d57848",
       "version_major": 2,
       "version_minor": 0
      },
      "text/plain": [
       "Batches:   0%|          | 0/1 [00:00<?, ?it/s]"
      ]
     },
     "metadata": {},
     "output_type": "display_data"
    },
    {
     "name": "stderr",
     "output_type": "stream",
     "text": [
      "2025-05-12 20:32:24,445 - INFO - 3705718800 - query_chroma_collection - Querying collection for: \"What are the core courses?\"\n",
      "2025-05-12 20:32:24,449 - INFO - 3026463495 - <module> - \n",
      "Retrieved Context #1:\n",
      "Context:\n",
      "Core Courses (6)\n",
      "You will complete six core courses toward your Master’s in Applied Data Science degree. Core courses allow you to build your theoretical data science knowledge and practice applying this theory to examine real-world business problems.\n",
      "Elective Courses (4)\n",
      "[Source: education-masters-programs-in-person-program.md, Title: In-Person Program – DSI]\n",
      "\n",
      "2025-05-12 20:32:24,450 - INFO - 3026463495 - <module> - \n",
      "Retrieved Context #2:\n",
      "Context:\n",
      "Core Courses (6)\n",
      "You will complete six core courses toward your Master’s in Applied Data Science degree. Core courses allow you to build your theoretical data science knowledge and practice applying this theory to examine real-world business problems.\n",
      "Elective Courses (4)\n",
      "[Source: education-masters-programs-ms-in-applied-data-science-in-person-program.md, Title: In-Person Program – DSI]\n",
      "\n",
      "2025-05-12 20:32:24,451 - INFO - 3026463495 - <module> - --- Vector Database Process Completed in 26.13 seconds ---\n"
     ]
    }
   ],
   "source": [
    "logger.info(\"--- Starting Vector Database Creation and Testing Process ---\")\n",
    "db_creation_start_time = time.time()\n",
    "\n",
    "# 1. Load pre-computed embeddings, documents, and metadata\n",
    "ids, embeddings, documents, metadatas = load_data_for_chroma(CHUNKS_WITH_EMBEDDINGS_FILE)\n",
    "\n",
    "if ids: # Check if data was loaded successfully\n",
    "    # 2. Initialize ChromaDB client and collection\n",
    "    chroma_client_instance, chroma_collection_instance = initialize_chroma_client_and_collection(\n",
    "        CHROMA_DB_DIR, COLLECTION_NAME\n",
    "    )\n",
    "\n",
    "    if chroma_collection_instance:\n",
    "        # 3. Add data to the collection\n",
    "        # Check if the collection is empty before adding to avoid duplicates if script is re-run\n",
    "        # Note: initialize_chroma_client_and_collection can be modified to delete/recreate if needed\n",
    "        if chroma_collection_instance.count() == 0:\n",
    "            logger.info(f\"Collection '{COLLECTION_NAME}' is empty. Populating with new data.\")\n",
    "            add_data_to_chroma_collection(\n",
    "                chroma_collection_instance, ids, embeddings, documents, metadatas\n",
    "            )\n",
    "        else:\n",
    "            logger.info(f\"Collection '{COLLECTION_NAME}' already contains {chroma_collection_instance.count()} items. Skipping data addition.\")\n",
    "            logger.info(\"To re-populate, delete the CHROMA_DB_DIR or modify initialize_chroma_client_and_collection to delete existing collections.\")\n",
    "\n",
    "\n",
    "        # 4. Initialize the embedding model for queries\n",
    "        query_model = initialize_query_embedding_model(QUERY_EMBEDDING_MODEL_NAME)\n",
    "\n",
    "        if query_model:\n",
    "            # 5. Test some queries\n",
    "            sample_test_queries = [\n",
    "                \"What are the core courses for the MS in Applied Data Science?\",\n",
    "                \"Tell me about the faculty specializing in machine learning.\",\n",
    "                \"What are the admission requirements?\",\n",
    "                \"How is the capstone project structured?\"\n",
    "            ]\n",
    "            for test_q in sample_test_queries:\n",
    "                results = query_chroma_collection(chroma_collection_instance, test_q, query_model, top_n_results=3)\n",
    "                display_query_search_results(results, test_q)\n",
    "            \n",
    "            # Test with metadata filter (example)\n",
    "            if metadatas: # Check if metadatas list is not empty\n",
    "                sample_category = metadatas[0].get('category')\n",
    "                if sample_category:\n",
    "                    logger.info(f\"\\n--- Testing Query with Metadata Filter (category: {sample_category}) ---\")\n",
    "                    filtered_query = \"capstone project\"\n",
    "                    filter_criteria = {\"category\": sample_category} \n",
    "                    # Example of more complex filter: {\"$and\": [{\"category\": \"education\"}, {\"title\": {\"$contains\": \"Online\"}}]}\n",
    "                    \n",
    "                    filtered_results = query_chroma_collection(\n",
    "                        chroma_collection_instance, filtered_query, query_model, \n",
    "                        top_n_results=2, metadata_filter_dict=filter_criteria\n",
    "                    )\n",
    "                    display_query_search_results(filtered_results, f\"{filtered_query} (filtered by category: {sample_category})\")\n",
    "                else:\n",
    "                    logger.info(\"Skipping metadata filter test as no sample category found in the first chunk.\")\n",
    "            \n",
    "            # 6. Test the context retrieval function\n",
    "            logger.info(\"\\n--- Testing Context Retrieval Function ---\")\n",
    "            retrieved_contexts = build_retrieval_context(\n",
    "                \"What are the core courses?\", \n",
    "                top_k_docs=2, \n",
    "                collection_inst=chroma_collection_instance, # Pass instances\n",
    "                query_embed_model_inst=query_model           # Pass instances\n",
    "            )\n",
    "            for i, ctx in enumerate(retrieved_contexts):\n",
    "                logger.info(f\"\\nRetrieved Context #{i+1}:\\n{ctx}\")\n",
    "        else:\n",
    "            logger.error(\"Query embedding model could not be initialized. Query testing skipped.\")\n",
    "    else:\n",
    "        logger.error(\"ChromaDB collection could not be initialized. Process halted.\")\n",
    "else:\n",
    "    logger.error(f\"Failed to load data from {CHUNKS_WITH_EMBEDDINGS_FILE}. Process halted.\")\n",
    "\n",
    "db_creation_end_time = time.time()\n",
    "elapsed_processing_time = db_creation_end_time - db_creation_start_time\n",
    "logger.info(f\"--- Vector Database Process Completed in {elapsed_processing_time:.2f} seconds ---\")\n"
   ]
  },
  {
   "cell_type": "code",
   "execution_count": null,
   "metadata": {},
   "outputs": [],
   "source": []
  }
 ],
 "metadata": {
  "kernelspec": {
   "display_name": "ragchat",
   "language": "python",
   "name": "python3"
  },
  "language_info": {
   "codemirror_mode": {
    "name": "ipython",
    "version": 3
   },
   "file_extension": ".py",
   "mimetype": "text/x-python",
   "name": "python",
   "nbconvert_exporter": "python",
   "pygments_lexer": "ipython3",
   "version": "3.13.3"
  }
 },
 "nbformat": 4,
 "nbformat_minor": 4
}
